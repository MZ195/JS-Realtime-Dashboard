{
 "cells": [
  {
   "cell_type": "code",
   "execution_count": 1,
   "id": "3a09ef04-293f-4378-8e70-d8860d6defce",
   "metadata": {},
   "outputs": [],
   "source": [
    "from math import sqrt\n",
    "import seaborn as sns\n",
    "import pandas as pd\n",
    "import numpy as np\n",
    "from matplotlib import pyplot\n",
    "import category_encoders as ce\n",
    "from sklearn.linear_model import LinearRegression\n",
    "from sklearn.preprocessing import StandardScaler\n",
    "from sklearn.preprocessing import PolynomialFeatures\n",
    "from sklearn.pipeline import make_pipeline\n",
    "from sklearn.model_selection import train_test_split, cross_val_score\n",
    "from sklearn.metrics import mean_squared_error, mean_absolute_error"
   ]
  },
  {
   "cell_type": "code",
   "execution_count": 2,
   "id": "2609c920-d6de-430b-94fa-f1c613cee05e",
   "metadata": {},
   "outputs": [],
   "source": [
    "btc_price_df = pd.read_csv(\"./Data/BTC_price_db.csv\")\n",
    "tweets_df = pd.read_csv(\"./Data/tweets_db.csv\")"
   ]
  },
  {
   "cell_type": "code",
   "execution_count": 3,
   "id": "12155aaa-592d-4348-a61b-e72337c00142",
   "metadata": {},
   "outputs": [
    {
     "data": {
      "text/html": [
       "<div>\n",
       "<style scoped>\n",
       "    .dataframe tbody tr th:only-of-type {\n",
       "        vertical-align: middle;\n",
       "    }\n",
       "\n",
       "    .dataframe tbody tr th {\n",
       "        vertical-align: top;\n",
       "    }\n",
       "\n",
       "    .dataframe thead th {\n",
       "        text-align: right;\n",
       "    }\n",
       "</style>\n",
       "<table border=\"1\" class=\"dataframe\">\n",
       "  <thead>\n",
       "    <tr style=\"text-align: right;\">\n",
       "      <th></th>\n",
       "      <th>time_</th>\n",
       "      <th>price_avg</th>\n",
       "      <th>neg</th>\n",
       "      <th>pos</th>\n",
       "      <th>neu</th>\n",
       "    </tr>\n",
       "  </thead>\n",
       "  <tbody>\n",
       "    <tr>\n",
       "      <th>0</th>\n",
       "      <td>2021-06-27 12:57:30+03</td>\n",
       "      <td>33131.70085</td>\n",
       "      <td>0</td>\n",
       "      <td>0</td>\n",
       "      <td>2</td>\n",
       "    </tr>\n",
       "    <tr>\n",
       "      <th>1</th>\n",
       "      <td>2021-06-27 12:58:00+03</td>\n",
       "      <td>33108.42845</td>\n",
       "      <td>0</td>\n",
       "      <td>3</td>\n",
       "      <td>5</td>\n",
       "    </tr>\n",
       "    <tr>\n",
       "      <th>2</th>\n",
       "      <td>2021-06-27 12:58:30+03</td>\n",
       "      <td>33137.47000</td>\n",
       "      <td>1</td>\n",
       "      <td>1</td>\n",
       "      <td>1</td>\n",
       "    </tr>\n",
       "    <tr>\n",
       "      <th>3</th>\n",
       "      <td>2021-06-27 12:59:00+03</td>\n",
       "      <td>33103.82730</td>\n",
       "      <td>0</td>\n",
       "      <td>3</td>\n",
       "      <td>5</td>\n",
       "    </tr>\n",
       "    <tr>\n",
       "      <th>4</th>\n",
       "      <td>2021-06-27 12:59:30+03</td>\n",
       "      <td>33144.13585</td>\n",
       "      <td>0</td>\n",
       "      <td>1</td>\n",
       "      <td>1</td>\n",
       "    </tr>\n",
       "  </tbody>\n",
       "</table>\n",
       "</div>"
      ],
      "text/plain": [
       "                    time_    price_avg  neg  pos  neu\n",
       "0  2021-06-27 12:57:30+03  33131.70085    0    0    2\n",
       "1  2021-06-27 12:58:00+03  33108.42845    0    3    5\n",
       "2  2021-06-27 12:58:30+03  33137.47000    1    1    1\n",
       "3  2021-06-27 12:59:00+03  33103.82730    0    3    5\n",
       "4  2021-06-27 12:59:30+03  33144.13585    0    1    1"
      ]
     },
     "execution_count": 3,
     "metadata": {},
     "output_type": "execute_result"
    }
   ],
   "source": [
    "merge_df = pd.merge(btc_price_df,tweets_df, on='time_')\n",
    "merge_df.head()"
   ]
  },
  {
   "cell_type": "code",
   "execution_count": 4,
   "id": "fb233388-5c66-47a9-b4d1-92623fa5a819",
   "metadata": {},
   "outputs": [],
   "source": [
    "# model_r = LinearRegression()\n",
    "# x_train, x_test, y_train, y_test = train_test_split(merge_df.drop(\"price_avg\", axis=1), merge_df[\"price_avg\"])\n",
    "# pipe = make_pipeline(ce.OrdinalEncoder(), StandardScaler(), LinearRegression()).fit(x_train, y_train)\n",
    "# preds= pipe.predict(x_test)\n",
    "# pipe.score(x_test,y_test)"
   ]
  },
  {
   "cell_type": "code",
   "execution_count": 5,
   "id": "bf60866b-f6b1-44db-b47b-bfbe80a70653",
   "metadata": {},
   "outputs": [],
   "source": [
    "X = merge_df.drop([\"time_\", \"price_avg\"], axis=1)\n",
    "y = merge_df.price_avg\n",
    "\n",
    "X_train, X_test, y_train, y_test = train_test_split(X, y, train_size=0.8, random_state=70)\n",
    "\n",
    "poly_reg = PolynomialFeatures(degree = 3) # Increasing this value will create more features\n",
    "poly_train = poly_reg.fit_transform(pd.DataFrame(X_train))\n",
    "poly_test = poly_reg.transform(pd.DataFrame(X_test))"
   ]
  },
  {
   "cell_type": "code",
   "execution_count": 6,
   "id": "e9e82e87-25d6-42a0-9682-894b2d299d10",
   "metadata": {},
   "outputs": [
    {
     "data": {
      "text/plain": [
       "-0.405706111846428"
      ]
     },
     "execution_count": 6,
     "metadata": {},
     "output_type": "execute_result"
    }
   ],
   "source": [
    "multi_lr = LinearRegression()\n",
    "\n",
    "multi_lr.fit(X_train, y_train)\n",
    "multi_lr.score(X_test,y_test)"
   ]
  },
  {
   "cell_type": "code",
   "execution_count": 10,
   "id": "18a73182-14d3-4766-80b9-ac0c10db85e6",
   "metadata": {},
   "outputs": [
    {
     "data": {
      "text/plain": [
       "10751.840052178188"
      ]
     },
     "execution_count": 10,
     "metadata": {},
     "output_type": "execute_result"
    }
   ],
   "source": [
    "preds = multi_lr.predict(X_test)\n",
    "mean_squared_error(y_test, preds)"
   ]
  },
  {
   "cell_type": "code",
   "execution_count": 8,
   "id": "e405478e-b1d4-46a4-af9c-f4d38873b4ae",
   "metadata": {},
   "outputs": [],
   "source": [
    "# # Cost Functions for the Linear Regression (Tips)\n",
    "# print(\"Cost functions for LR\")\n",
    "# print(\"MAE: \",mean_absolute_error(y_test, preds))\n",
    "# print(\"RMSE: \",sqrt(mean_squared_error(y_test, preds)))\n",
    "# print(\"MSE: \", mean_squared_error(y_test, preds))"
   ]
  },
  {
   "cell_type": "code",
   "execution_count": 11,
   "id": "7d19d65e-a397-45e7-a109-d5d7a2a40e0f",
   "metadata": {},
   "outputs": [
    {
     "data": {
      "image/png": "[encoded data removed]",
      "text/plain": [
       "<Figure size 432x288 with 1 Axes>"
      ]
     },
     "metadata": {
      "needs_background": "light"
     },
     "output_type": "display_data"
    }
   ],
   "source": [
    "actual = [x for x in y_test]\n",
    "# plot forecasts against actual outcomes\n",
    "pyplot.plot(actual)\n",
    "pyplot.plot(preds, color='red')\n",
    "pyplot.show()"
   ]
  },
  {
   "cell_type": "code",
   "execution_count": null,
   "id": "abfe1ae4-816d-4e0c-a531-a3591b7774d5",
   "metadata": {},
   "outputs": [],
   "source": []
  },
  {
   "cell_type": "code",
   "execution_count": null,
   "id": "73284bee-b1e7-4313-98b8-f1a3aada29ae",
   "metadata": {},
   "outputs": [],
   "source": []
  }
 ],
 "metadata": {
  "kernelspec": {
   "display_name": "Python 3",
   "language": "python",
   "name": "python3"
  },
  "language_info": {
   "codemirror_mode": {
    "name": "ipython",
    "version": 3
   },
   "file_extension": ".py",
   "mimetype": "text/x-python",
   "name": "python",
   "nbconvert_exporter": "python",
   "pygments_lexer": "ipython3",
   "version": "3.8.2"
  }
 },
 "nbformat": 4,
 "nbformat_minor": 5
}
