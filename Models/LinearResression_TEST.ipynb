{
 "cells": [
  {
   "cell_type": "code",
   "execution_count": 1,
   "id": "3a09ef04-293f-4378-8e70-d8860d6defce",
   "metadata": {},
   "outputs": [],
   "source": [
    "from statistics import mean\n",
    "import pandas as pd\n",
    "import numpy as np\n",
    "import seaborn as sns\n",
    "from matplotlib import pyplot as plt\n",
    "from sklearn.linear_model import LinearRegression\n",
    "from sklearn.preprocessing import StandardScaler, PolynomialFeatures\n",
    "from sklearn.model_selection import train_test_split\n",
    "from sklearn.metrics import mean_squared_error, mean_absolute_error"
   ]
  },
  {
   "cell_type": "code",
   "execution_count": 2,
   "id": "2609c920-d6de-430b-94fa-f1c613cee05e",
   "metadata": {},
   "outputs": [],
   "source": [
    "actual = pd.read_csv(\"/Users/mz195/BTC_price_db.csv\")\n",
    "arima = pd.read_csv(\"/Users/mz195/arima_predictions.csv\")\n",
    "varmax = pd.read_csv(\"/Users/mz195/varmax_predictions.csv\")\n",
    "ses = pd.read_csv(\"/Users/mz195/ses_predictions.csv\")"
   ]
  },
  {
   "cell_type": "code",
   "execution_count": 3,
   "id": "df1ecedc-dcf4-4110-ad30-b22ac062c4cb",
   "metadata": {},
   "outputs": [
    {
     "name": "stdout",
     "output_type": "stream",
     "text": [
      "Actual:\t(11333, 2)\n",
      "ARIMA:\t(5675, 2)\n",
      "VARMAX:\t(3506, 2)\n",
      "SES:\t(3023, 2)\n"
     ]
    }
   ],
   "source": [
    "print(\"Actual:\\t{}\".format(actual.shape))\n",
    "print(\"ARIMA:\\t{}\".format(arima.shape))\n",
    "print(\"VARMAX:\\t{}\".format(varmax.shape))\n",
    "print(\"SES:\\t{}\".format(ses.shape))"
   ]
  },
  {
   "cell_type": "code",
   "execution_count": 4,
   "id": "12155aaa-592d-4348-a61b-e72337c00142",
   "metadata": {},
   "outputs": [
    {
     "data": {
      "text/plain": [
       "(3017, 5)"
      ]
     },
     "execution_count": 4,
     "metadata": {},
     "output_type": "execute_result"
    }
   ],
   "source": [
    "arima_df = actual.merge(arima, on='time_')\n",
    "arima_varmax_df = arima_df.merge(varmax, on='time_')\n",
    "all_models_df = arima_varmax_df.merge(ses, on='time_')\n",
    "all_models_df.shape"
   ]
  },
  {
   "cell_type": "code",
   "execution_count": 5,
   "id": "3e6606bd-5abd-4c8d-9f43-ff92e5fa69c8",
   "metadata": {},
   "outputs": [
    {
     "data": {
      "text/html": [
       "<div>\n",
       "<style scoped>\n",
       "    .dataframe tbody tr th:only-of-type {\n",
       "        vertical-align: middle;\n",
       "    }\n",
       "\n",
       "    .dataframe tbody tr th {\n",
       "        vertical-align: top;\n",
       "    }\n",
       "\n",
       "    .dataframe thead th {\n",
       "        text-align: right;\n",
       "    }\n",
       "</style>\n",
       "<table border=\"1\" class=\"dataframe\">\n",
       "  <thead>\n",
       "    <tr style=\"text-align: right;\">\n",
       "      <th></th>\n",
       "      <th>time_</th>\n",
       "      <th>price_avg</th>\n",
       "      <th>arima</th>\n",
       "      <th>varmax</th>\n",
       "      <th>ses</th>\n",
       "    </tr>\n",
       "  </thead>\n",
       "  <tbody>\n",
       "    <tr>\n",
       "      <th>0</th>\n",
       "      <td>2021-06-27 22:03:30</td>\n",
       "      <td>32981.63915</td>\n",
       "      <td>32966.545305</td>\n",
       "      <td>32973.673844</td>\n",
       "      <td>32970.854879</td>\n",
       "    </tr>\n",
       "    <tr>\n",
       "      <th>1</th>\n",
       "      <td>2021-06-27 22:04:00</td>\n",
       "      <td>32973.25750</td>\n",
       "      <td>32984.204069</td>\n",
       "      <td>32978.171274</td>\n",
       "      <td>32971.348904</td>\n",
       "    </tr>\n",
       "    <tr>\n",
       "      <th>2</th>\n",
       "      <td>2021-06-27 22:04:30</td>\n",
       "      <td>32973.25750</td>\n",
       "      <td>32979.936616</td>\n",
       "      <td>32966.950351</td>\n",
       "      <td>32962.978442</td>\n",
       "    </tr>\n",
       "    <tr>\n",
       "      <th>3</th>\n",
       "      <td>2021-06-27 22:05:00</td>\n",
       "      <td>32965.21585</td>\n",
       "      <td>32975.250152</td>\n",
       "      <td>32967.764012</td>\n",
       "      <td>32965.962593</td>\n",
       "    </tr>\n",
       "    <tr>\n",
       "      <th>4</th>\n",
       "      <td>2021-06-27 22:05:30</td>\n",
       "      <td>32965.21585</td>\n",
       "      <td>32971.040485</td>\n",
       "      <td>32968.271050</td>\n",
       "      <td>32969.270639</td>\n",
       "    </tr>\n",
       "  </tbody>\n",
       "</table>\n",
       "</div>"
      ],
      "text/plain": [
       "                 time_    price_avg         arima        varmax           ses\n",
       "0  2021-06-27 22:03:30  32981.63915  32966.545305  32973.673844  32970.854879\n",
       "1  2021-06-27 22:04:00  32973.25750  32984.204069  32978.171274  32971.348904\n",
       "2  2021-06-27 22:04:30  32973.25750  32979.936616  32966.950351  32962.978442\n",
       "3  2021-06-27 22:05:00  32965.21585  32975.250152  32967.764012  32965.962593\n",
       "4  2021-06-27 22:05:30  32965.21585  32971.040485  32968.271050  32969.270639"
      ]
     },
     "execution_count": 5,
     "metadata": {},
     "output_type": "execute_result"
    }
   ],
   "source": [
    "all_models_df.head()"
   ]
  },
  {
   "cell_type": "code",
   "execution_count": 6,
   "id": "abd71ffb-cad1-42f5-8989-4a11ba8bb967",
   "metadata": {},
   "outputs": [],
   "source": [
    "X = all_models_df.drop([\"time_\", \"price_avg\"], axis=1)\n",
    "y = all_models_df.price_avg"
   ]
  },
  {
   "cell_type": "code",
   "execution_count": 7,
   "id": "bf60866b-f6b1-44db-b47b-bfbe80a70653",
   "metadata": {},
   "outputs": [],
   "source": [
    "MAE_list = []\n",
    "RMSE_list = []\n",
    "MSE_list = []\n",
    "test_score_list = []\n",
    "train_score_list = []\n",
    "\n",
    "for _ in range(1000):\n",
    "    X_train, X_test, y_train, y_test = train_test_split(X, y, train_size=0.75)\n",
    "    \n",
    "    scaler = StandardScaler()\n",
    "    scaled_X_train = scaler.fit_transform(X_train)\n",
    "    scaled_X_test = scaler.transform(X_test)\n",
    "    \n",
    "    poly_reg = PolynomialFeatures(degree = 2)\n",
    "    poly_train = poly_reg.fit_transform(pd.DataFrame(scaled_X_train))\n",
    "    poly_test = poly_reg.transform(pd.DataFrame(scaled_X_test))\n",
    "    \n",
    "    lr = LinearRegression()\n",
    "    lr.fit(poly_train, y_train)\n",
    "    train_score_list.append(lr.score(poly_train,y_train))\n",
    "    test_score_list.append(lr.score(poly_test,y_test))\n",
    "    \n",
    "    preds = lr.predict(poly_test)\n",
    "    MAE_list.append(mean_absolute_error(y_test, preds))\n",
    "    RMSE_list.append(mean_squared_error(y_test, preds, squared=False))\n",
    "    MSE_list.append(mean_squared_error(y_test, preds))"
   ]
  },
  {
   "cell_type": "code",
   "execution_count": 8,
   "id": "e405478e-b1d4-46a4-af9c-f4d38873b4ae",
   "metadata": {},
   "outputs": [
    {
     "name": "stdout",
     "output_type": "stream",
     "text": [
      "---- Cost functions for LR ----\n",
      "Avg Training Score:\t\t 0.9462228586593273\n",
      "Avg Testing Score:\t\t 0.944983571396139\n",
      "Avg MAE:\t\t\t 46.373390304247295\n",
      "Avg RMSE:\t\t\t 88.27513585396663\n",
      "Avg MSE:\t\t\t 7860.049369869503\n"
     ]
    }
   ],
   "source": [
    "# Cost Functions for the Linear Regression\n",
    "print(\"---- Cost functions for LR ----\")\n",
    "print(\"Avg Training Score:\\t\\t\", mean(train_score_list))\n",
    "print(\"Avg Testing Score:\\t\\t\", mean(test_score_list))\n",
    "print(\"Avg MAE:\\t\\t\\t\", mean(MAE_list))\n",
    "print(\"Avg RMSE:\\t\\t\\t\", mean(RMSE_list))\n",
    "print(\"Avg MSE:\\t\\t\\t\", mean(MSE_list))"
   ]
  },
  {
   "cell_type": "code",
   "execution_count": null,
   "id": "bf3c38df-02ee-4725-87f0-df1fb9dbdcd1",
   "metadata": {},
   "outputs": [],
   "source": []
  }
 ],
 "metadata": {
  "kernelspec": {
   "display_name": "Python 3",
   "language": "python",
   "name": "python3"
  },
  "language_info": {
   "codemirror_mode": {
    "name": "ipython",
    "version": 3
   },
   "file_extension": ".py",
   "mimetype": "text/x-python",
   "name": "python",
   "nbconvert_exporter": "python",
   "pygments_lexer": "ipython3",
   "version": "3.8.2"
  }
 },
 "nbformat": 4,
 "nbformat_minor": 5
}
