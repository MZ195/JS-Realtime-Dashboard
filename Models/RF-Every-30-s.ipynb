{
 "cells": [
  {
   "cell_type": "code",
   "execution_count": 1,
   "id": "01ac3658-a361-42b1-a8e2-0ae90951c308",
   "metadata": {},
   "outputs": [],
   "source": [
    "import requests\n",
    "from datetime import datetime\n",
    "import psycopg2\n",
    "import time\n",
    "\n",
    "import pandas as pd\n",
    "import matplotlib.pyplot as plt\n",
    "import seaborn as sns\n",
    "import numpy as np\n",
    "\n",
    "from sklearn.model_selection import train_test_split\n",
    "from sklearn.metrics import mean_squared_error, mean_absolute_error\n",
    "from sklearn.preprocessing import StandardScaler\n",
    "\n",
    "# This is for regression\n",
    "from sklearn.tree import DecisionTreeRegressor \n",
    "from sklearn.ensemble import RandomForestRegressor\n",
    "\n",
    "from sklearn import tree\n",
    "import joblib"
   ]
  },
  {
   "cell_type": "code",
   "execution_count": 2,
   "id": "10328195-1b6c-435d-bbc3-873c2a4d2e7e",
   "metadata": {},
   "outputs": [],
   "source": [
    "conn = psycopg2.connect(database=\"postgres\", user=\"postgres\",\n",
    "                        password=\"Aa@123456\", host=\"127.0.0.1\", port=\"5432\")"
   ]
  },
  {
   "cell_type": "code",
   "execution_count": 3,
   "id": "8c1e5d27-39fb-4f85-93f7-f8be4d21dc13",
   "metadata": {},
   "outputs": [],
   "source": [
    "ARIMA_URL = \"http://localhost:9000/predict/ARIMA\"\n",
    "VARMAX_URL = \"http://localhost:9000/predict/VARMAX\"\n",
    "SES_URL = \"http://localhost:9000/predict/SES\"\n",
    "ACTUAL_URL = \"http://localhost:9000/btc/price\""
   ]
  },
  {
   "cell_type": "code",
   "execution_count": 4,
   "id": "af494f8b-cc08-440e-b9d5-220820f9c451",
   "metadata": {},
   "outputs": [
    {
     "data": {
      "text/html": [
       "<div>\n",
       "<style scoped>\n",
       "    .dataframe tbody tr th:only-of-type {\n",
       "        vertical-align: middle;\n",
       "    }\n",
       "\n",
       "    .dataframe tbody tr th {\n",
       "        vertical-align: top;\n",
       "    }\n",
       "\n",
       "    .dataframe thead th {\n",
       "        text-align: right;\n",
       "    }\n",
       "</style>\n",
       "<table border=\"1\" class=\"dataframe\">\n",
       "  <thead>\n",
       "    <tr style=\"text-align: right;\">\n",
       "      <th></th>\n",
       "      <th>datetime</th>\n",
       "      <th>PRICE</th>\n",
       "      <th>ARIMA</th>\n",
       "      <th>VARMAX</th>\n",
       "      <th>SES</th>\n",
       "    </tr>\n",
       "  </thead>\n",
       "  <tbody>\n",
       "    <tr>\n",
       "      <th>0</th>\n",
       "      <td>15:56:30</td>\n",
       "      <td>33596.230000</td>\n",
       "      <td>33589.059337</td>\n",
       "      <td>33579.112123</td>\n",
       "      <td>33585.258185</td>\n",
       "    </tr>\n",
       "    <tr>\n",
       "      <th>1</th>\n",
       "      <td>15:57:00</td>\n",
       "      <td>33585.377025</td>\n",
       "      <td>33589.159503</td>\n",
       "      <td>33580.098487</td>\n",
       "      <td>33588.260187</td>\n",
       "    </tr>\n",
       "    <tr>\n",
       "      <th>2</th>\n",
       "      <td>15:57:30</td>\n",
       "      <td>33584.332200</td>\n",
       "      <td>33592.245619</td>\n",
       "      <td>33589.096796</td>\n",
       "      <td>33589.787168</td>\n",
       "    </tr>\n",
       "    <tr>\n",
       "      <th>3</th>\n",
       "      <td>15:58:00</td>\n",
       "      <td>33580.118900</td>\n",
       "      <td>33588.623128</td>\n",
       "      <td>33584.129076</td>\n",
       "      <td>33583.679837</td>\n",
       "    </tr>\n",
       "    <tr>\n",
       "      <th>4</th>\n",
       "      <td>15:58:30</td>\n",
       "      <td>33577.903775</td>\n",
       "      <td>33584.970541</td>\n",
       "      <td>33576.353830</td>\n",
       "      <td>33581.033068</td>\n",
       "    </tr>\n",
       "  </tbody>\n",
       "</table>\n",
       "</div>"
      ],
      "text/plain": [
       "   datetime         PRICE         ARIMA        VARMAX           SES\n",
       "0  15:56:30  33596.230000  33589.059337  33579.112123  33585.258185\n",
       "1  15:57:00  33585.377025  33589.159503  33580.098487  33588.260187\n",
       "2  15:57:30  33584.332200  33592.245619  33589.096796  33589.787168\n",
       "3  15:58:00  33580.118900  33588.623128  33584.129076  33583.679837\n",
       "4  15:58:30  33577.903775  33584.970541  33576.353830  33581.033068"
      ]
     },
     "execution_count": 4,
     "metadata": {},
     "output_type": "execute_result"
    }
   ],
   "source": [
    "actual_res = requests.get(url=ACTUAL_URL)\n",
    "actual_data = actual_res.json()\n",
    "\n",
    "\n",
    "ARIMA_res = requests.get(url=ARIMA_URL)\n",
    "ARIMA_data = ARIMA_res.json()[:-2]\n",
    "\n",
    "VARMAX_res = requests.get(url=VARMAX_URL)\n",
    "VARMAX_data = VARMAX_res.json()[:-2]\n",
    "\n",
    "SES_res = requests.get(url=SES_URL)\n",
    "SES_data = SES_res.json()[:-2]\n",
    "\n",
    "actual = pd.DataFrame.from_dict(actual_data)\n",
    "actual.columns = ['datetime', 'PRICE']\n",
    "               \n",
    "arima = pd.DataFrame.from_dict(ARIMA_data)\n",
    "arima.columns = ['datetime', 'ARIMA']\n",
    "\n",
    "varmax = pd.DataFrame.from_dict(VARMAX_data)\n",
    "varmax.columns = ['datetime', 'VARMAX']\n",
    "\n",
    "ses = pd.DataFrame.from_dict(SES_data)\n",
    "ses.columns = ['datetime', 'SES']\n",
    "\n",
    "arima_df = actual.merge(arima, on='datetime')\n",
    "arima_varmax_df = arima_df.merge(varmax, on='datetime')\n",
    "all_models_df = arima_varmax_df.merge(ses, on='datetime')\n",
    "\n",
    "all_models_df.head()\n"
   ]
  },
  {
   "cell_type": "code",
   "execution_count": 5,
   "id": "4e7c860f-378b-4401-9910-c27af52d53e6",
   "metadata": {},
   "outputs": [
    {
     "data": {
      "text/plain": [
       "RandomForestRegressor()"
      ]
     },
     "execution_count": 5,
     "metadata": {},
     "output_type": "execute_result"
    }
   ],
   "source": [
    "X = all_models_df.drop([\"datetime\", \"PRICE\"], axis=1)\n",
    "y = all_models_df.PRICE\n",
    "\n",
    "reg_forest = RandomForestRegressor(\n",
    "    n_estimators = 100,\n",
    "    criterion = 'mse')\n",
    "\n",
    "reg_forest.fit(X, y)"
   ]
  },
  {
   "cell_type": "code",
   "execution_count": 6,
   "id": "1b153afc-e5ef-4279-8646-77d5a61d85c0",
   "metadata": {},
   "outputs": [
    {
     "name": "stdout",
     "output_type": "stream",
     "text": [
      "DateTime: 16:25:00, Price: 33383.20649683328\n",
      "DateTime: 16:25:30, Price: 33383.20649683328\n"
     ]
    }
   ],
   "source": [
    "ARIMA_preds = ARIMA_res.json()[-2:]\n",
    "VARMAX_preds = VARMAX_res.json()[-2:]\n",
    "SES_preds = SES_res.json()[-2:]\n",
    "\n",
    "for i in range(len(ARIMA_preds)):\n",
    "    arima_pred = ARIMA_preds[i][\"price\"]\n",
    "    varmax_pred = VARMAX_preds[i][\"price\"]\n",
    "    ses_pred = SES_preds[i][\"price\"]\n",
    "\n",
    "    current_time = ARIMA_preds[i][\"datetime\"]\n",
    "    res = reg_forest.predict([[arima_pred, varmax_pred, ses_pred]])[0]\n",
    "    print(\"DateTime: {}, Price: {}\".format(current_time, res))"
   ]
  },
  {
   "cell_type": "code",
   "execution_count": null,
   "id": "8a31c2aa-0345-483f-87bb-1bd3951478b0",
   "metadata": {},
   "outputs": [],
   "source": []
  }
 ],
 "metadata": {
  "kernelspec": {
   "display_name": "Python 3",
   "language": "python",
   "name": "python3"
  },
  "language_info": {
   "codemirror_mode": {
    "name": "ipython",
    "version": 3
   },
   "file_extension": ".py",
   "mimetype": "text/x-python",
   "name": "python",
   "nbconvert_exporter": "python",
   "pygments_lexer": "ipython3",
   "version": "3.8.2"
  }
 },
 "nbformat": 4,
 "nbformat_minor": 5
}
