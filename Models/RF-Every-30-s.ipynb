{
 "cells": [
  {
   "cell_type": "code",
   "execution_count": 1,
   "id": "01ac3658-a361-42b1-a8e2-0ae90951c308",
   "metadata": {},
   "outputs": [],
   "source": [
    "import requests\n",
    "from datetime import datetime\n",
    "import psycopg2\n",
    "import time\n",
    "\n",
    "import pandas as pd\n",
    "import matplotlib.pyplot as plt\n",
    "import seaborn as sns\n",
    "import numpy as np\n",
    "\n",
    "from sklearn.model_selection import train_test_split\n",
    "from sklearn.metrics import mean_squared_error, mean_absolute_error\n",
    "from sklearn.preprocessing import StandardScaler\n",
    "\n",
    "# This is for regression\n",
    "from sklearn.tree import DecisionTreeRegressor \n",
    "from sklearn.ensemble import RandomForestRegressor\n",
    "\n",
    "from sklearn import tree\n",
    "import joblib"
   ]
  },
  {
   "cell_type": "code",
   "execution_count": 17,
   "id": "10328195-1b6c-435d-bbc3-873c2a4d2e7e",
   "metadata": {},
   "outputs": [],
   "source": [
    "conn = psycopg2.connect(database=\"postgres\", user=\"postgres\",\n",
    "                        password=\"Aa@123456\", host=\"127.0.0.1\", port=\"5432\")"
   ]
  },
  {
   "cell_type": "code",
   "execution_count": 2,
   "id": "8c1e5d27-39fb-4f85-93f7-f8be4d21dc13",
   "metadata": {},
   "outputs": [],
   "source": [
    "ARIMA_URL = \"http://localhost:9000/predict/ARIMA\"\n",
    "VARMAX_URL = \"http://localhost:9000/predict/VARMAX\"\n",
    "SES_URL = \"http://localhost:9000/predict/SES\"\n",
    "ACTUAL_URL = \"http://localhost:9000/btc/price\""
   ]
  },
  {
   "cell_type": "code",
   "execution_count": 20,
   "id": "af494f8b-cc08-440e-b9d5-220820f9c451",
   "metadata": {},
   "outputs": [
    {
     "name": "stdout",
     "output_type": "stream",
     "text": [
      "DateTime: 18:50:00, Price: 34241.749866833336\n",
      "DateTime: 18:50:30, Price: 34237.21787333332\n"
     ]
    }
   ],
   "source": [
    "actual_res = requests.get(url=ACTUAL_URL)\n",
    "actual_data = actual_res.json()\n",
    "\n",
    "\n",
    "ARIMA_res = requests.get(url=ARIMA_URL)\n",
    "ARIMA_data = ARIMA_res.json()[:-2]\n",
    "\n",
    "VARMAX_res = requests.get(url=VARMAX_URL)\n",
    "VARMAX_data = VARMAX_res.json()[:-2]\n",
    "\n",
    "SES_res = requests.get(url=SES_URL)\n",
    "SES_data = SES_res.json()[:-2]\n",
    "\n",
    "actual = pd.DataFrame.from_dict(actual_data)\n",
    "actual.columns = ['datetime', 'PRICE']\n",
    "               \n",
    "arima = pd.DataFrame.from_dict(ARIMA_data)\n",
    "arima.columns = ['datetime', 'ARIMA']\n",
    "\n",
    "varmax = pd.DataFrame.from_dict(VARMAX_data)\n",
    "varmax.columns = ['datetime', 'VARMAX']\n",
    "\n",
    "ses = pd.DataFrame.from_dict(SES_data)\n",
    "ses.columns = ['datetime', 'SES']\n",
    "\n",
    "arima_df = actual.merge(arima, on='datetime')\n",
    "arima_varmax_df = arima_df.merge(varmax, on='datetime')\n",
    "all_models_df = arima_varmax_df.merge(ses, on='datetime')\n",
    "\n",
    "X = all_models_df.drop([\"datetime\", \"PRICE\"], axis=1)\n",
    "y = all_models_df.PRICE\n",
    "\n",
    "reg_forest = RandomForestRegressor(\n",
    "    n_estimators = 100,\n",
    "    criterion = 'mse')\n",
    "\n",
    "reg_forest.fit(X, y)\n",
    "\n",
    "ARIMA_preds = ARIMA_res.json()[-2:]\n",
    "VARMAX_preds = VARMAX_res.json()[-2:]\n",
    "SES_preds = SES_res.json()[-2:]\n",
    "\n",
    "for i in range(len(ARIMA_preds)):\n",
    "    arima_pred = ARIMA_preds[i][\"price\"]\n",
    "    varmax_pred = VARMAX_preds[i][\"price\"]\n",
    "    ses_pred = SES_preds[i][\"price\"]\n",
    "\n",
    "    current_time = ARIMA_preds[i][\"datetime\"]\n",
    "    res = reg_forest.predict([[arima_pred, varmax_pred, ses_pred]])[0]\n",
    "    print(\"DateTime: {}, Price: {}\".format(current_time, res))"
   ]
  },
  {
   "cell_type": "code",
   "execution_count": null,
   "id": "4e7c860f-378b-4401-9910-c27af52d53e6",
   "metadata": {},
   "outputs": [],
   "source": []
  }
 ],
 "metadata": {
  "kernelspec": {
   "display_name": "Python 3",
   "language": "python",
   "name": "python3"
  },
  "language_info": {
   "codemirror_mode": {
    "name": "ipython",
    "version": 3
   },
   "file_extension": ".py",
   "mimetype": "text/x-python",
   "name": "python",
   "nbconvert_exporter": "python",
   "pygments_lexer": "ipython3",
   "version": "3.8.2"
  }
 },
 "nbformat": 4,
 "nbformat_minor": 5
}
