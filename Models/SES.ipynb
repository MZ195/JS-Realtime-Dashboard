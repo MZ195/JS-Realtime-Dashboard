{
 "cells": [
  {
   "cell_type": "code",
   "execution_count": 20,
   "id": "cb35a7f8-35a2-4a4a-bbb3-cbf0d3dbecb6",
   "metadata": {},
   "outputs": [],
   "source": [
    "from statsmodels.tsa.holtwinters import SimpleExpSmoothing\n",
    "from random import random\n",
    "import warnings\n",
    "import pandas as pd\n",
    "from pandas import read_csv, DataFrame\n",
    "from datetime import datetime\n",
    "from matplotlib import pyplot\n",
    "from pandas.plotting import autocorrelation_plot\n",
    "from sklearn.metrics import mean_squared_error"
   ]
  },
  {
   "cell_type": "code",
   "execution_count": 21,
   "id": "49cfdaf3-f66a-4b6b-8eaf-f6eca4c1e146",
   "metadata": {},
   "outputs": [
    {
     "data": {
      "text/plain": [
       "(121, 4)"
      ]
     },
     "execution_count": 21,
     "metadata": {},
     "output_type": "execute_result"
    }
   ],
   "source": [
    "btc_price_df = pd.read_csv(\"./Data/BTC_price_db.csv\")\n",
    "tweets_df = pd.read_csv(\"./Data/tweets_db.csv\")\n",
    "merge_df = pd.merge(btc_price_df,tweets_df, on='time_')\n",
    "merge_df = merge_df.drop([\"time_\"], axis=1)\n",
    "merge_df.shape"
   ]
  },
  {
   "cell_type": "code",
   "execution_count": 22,
   "id": "8e02b5f6-ebd3-433b-9b26-7dd2e4681304",
   "metadata": {},
   "outputs": [],
   "source": [
    "size = int(len(merge_df)*0.75)\n",
    "\n",
    "# Divide into train and test\n",
    "train, test = merge_df[0:size], merge_df[size:len(merge_df)]"
   ]
  },
  {
   "cell_type": "code",
   "execution_count": 23,
   "id": "cbae14e3-3d91-4627-8d6d-2c266e9e015c",
   "metadata": {},
   "outputs": [],
   "source": [
    "data = [x for x in train[\"price_avg\"].values]\n",
    "model = SimpleExpSmoothing(data)\n",
    "model_fit = model.fit()\n",
    "# make prediction\n",
    "yhat = model_fit.predict()"
   ]
  },
  {
   "cell_type": "code",
   "execution_count": 24,
   "id": "55045736-a52d-4003-8b34-9ceb6f538417",
   "metadata": {},
   "outputs": [
    {
     "data": {
      "text/plain": [
       "21.493897755070293"
      ]
     },
     "execution_count": 24,
     "metadata": {},
     "output_type": "execute_result"
    }
   ],
   "source": [
    "data = [x for x in train[\"price_avg\"].values]\n",
    "test2 = [x for x in test[\"price_avg\"].values]\n",
    "\n",
    "predictions = list()\n",
    "acutal = list()\n",
    "\n",
    "for t in range(len(test2)):\n",
    "    model = SimpleExpSmoothing(data)\n",
    "    model_fit = model.fit()\n",
    "    yhat = model_fit.forecast()\n",
    "    predictions.append(yhat)\n",
    "    data.append(test2[t])\n",
    "    acutal.append(test2[t])\n",
    "mean_squared_error(acutal, predictions, squared=False)"
   ]
  },
  {
   "cell_type": "code",
   "execution_count": null,
   "id": "08c9af1e-7faf-4f76-8efb-bab10de80560",
   "metadata": {},
   "outputs": [],
   "source": []
  }
 ],
 "metadata": {
  "kernelspec": {
   "display_name": "Python 3",
   "language": "python",
   "name": "python3"
  },
  "language_info": {
   "codemirror_mode": {
    "name": "ipython",
    "version": 3
   },
   "file_extension": ".py",
   "mimetype": "text/x-python",
   "name": "python",
   "nbconvert_exporter": "python",
   "pygments_lexer": "ipython3",
   "version": "3.8.2"
  }
 },
 "nbformat": 4,
 "nbformat_minor": 5
}
