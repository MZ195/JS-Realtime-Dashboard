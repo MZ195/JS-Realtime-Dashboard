{
 "cells": [
  {
   "cell_type": "code",
   "execution_count": 9,
   "id": "9c06ef97-4098-4861-ab96-4b34bb52a5b4",
   "metadata": {},
   "outputs": [],
   "source": [
    "import pandas as pd\n",
    "import warnings\n",
    "from datetime import datetime, timedelta\n",
    "from statsmodels.tsa.arima.model import ARIMA\n",
    "import psycopg2\n",
    "import time"
   ]
  },
  {
   "cell_type": "code",
   "execution_count": 2,
   "id": "73519ce1-6eac-4fb7-acb8-4b947d9e239e",
   "metadata": {},
   "outputs": [],
   "source": [
    "warnings.filterwarnings(\"ignore\")\n",
    "conn = psycopg2.connect(database=\"postgres\", user=\"postgres\",\n",
    "                        password=\"Aa@123456\", host=\"127.0.0.1\", port=\"5432\")"
   ]
  },
  {
   "cell_type": "code",
   "execution_count": 36,
   "id": "22d6c7b7-2450-4d5d-a155-2e6e2ec1f8b2",
   "metadata": {},
   "outputs": [],
   "source": [
    "cur = conn.cursor()\n",
    "cur.execute('''SELECT to_timestamp(floor((extract('epoch' from Created_at) / 30 )) * 30) AT TIME ZONE 'UTC' time_ , avg(price) price_\n",
    "                            FROM BT_Price\n",
    "                            WHERE created_at <= date_trunc('hour',  now() + interval '1 hour') and created_at >= (now() - interval '1 hour')\n",
    "                            GROUP BY time_\n",
    "                            ORDER BY time_''')\n",
    "rows = cur.fetchall()\n",
    "conn.commit()\n",
    "\n",
    "df = pd.DataFrame(rows, columns=['time', 'price'])\n",
    "results = []\n",
    "history = [x for x in df[\"price\"].values]\n",
    "\n",
    "for i in range(0, 5):\n",
    "    current_res = {}\n",
    "    current_time = datetime.now() + timedelta(seconds=(i * 30))\n",
    "    model = ARIMA(history, order=(0, 3, 2))\n",
    "    model_fit = model.fit()\n",
    "    output = model_fit.forecast()\n",
    "    yhat = output[0]\n",
    "    current_res[\"price\"] = yhat\n",
    "    if current_time.second < 30:\n",
    "        newdatetime = current_time.replace(second=30, microsecond=0)\n",
    "    elif newdatetime.minute + 1 <= 59:\n",
    "        newdatetime = current_time.replace(minute=(current_time.minute + (1)), second=0, microsecond=0)\n",
    "    elif(newdatetime.hour != 23):\n",
    "        newdatetime = current_time.replace(hour=(current_time.hour + 1), minute=1, second=0, microsecond=0)\n",
    "    else:\n",
    "        newdatetime = newdatetime.replace(hour=(current_time.hour + 1), minute=1, second=0, microsecond=0)\n",
    "    current_res[\"datetime\"] = newdatetime\n",
    "    results.append(current_res) # SQL\n",
    "    history.append(yhat)"
   ]
  },
  {
   "cell_type": "code",
   "execution_count": 37,
   "id": "b74723af-e521-4623-94a5-7960395b77c0",
   "metadata": {},
   "outputs": [
    {
     "name": "stdout",
     "output_type": "stream",
     "text": [
      "{'price': 34458.72472059648, 'datetime': datetime.datetime(2021, 6, 28, 22, 43)}\n",
      "{'price': 34461.175252766174, 'datetime': datetime.datetime(2021, 6, 28, 22, 43, 30)}\n",
      "{'price': 34463.73636938098, 'datetime': datetime.datetime(2021, 6, 28, 22, 44)}\n",
      "{'price': 34466.40876774974, 'datetime': datetime.datetime(2021, 6, 28, 22, 44, 30)}\n",
      "{'price': 34469.1931112571, 'datetime': datetime.datetime(2021, 6, 28, 22, 45)}\n"
     ]
    }
   ],
   "source": [
    "for res in results:\n",
    "    print(res)"
   ]
  },
  {
   "cell_type": "code",
   "execution_count": null,
   "id": "5545dc48-d33f-47c3-ba5f-ae7de63c1b06",
   "metadata": {},
   "outputs": [],
   "source": []
  }
 ],
 "metadata": {
  "kernelspec": {
   "display_name": "Python 3",
   "language": "python",
   "name": "python3"
  },
  "language_info": {
   "codemirror_mode": {
    "name": "ipython",
    "version": 3
   },
   "file_extension": ".py",
   "mimetype": "text/x-python",
   "name": "python",
   "nbconvert_exporter": "python",
   "pygments_lexer": "ipython3",
   "version": "3.8.2"
  }
 },
 "nbformat": 4,
 "nbformat_minor": 5
}
