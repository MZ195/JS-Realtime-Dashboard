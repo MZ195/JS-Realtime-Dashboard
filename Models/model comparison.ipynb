{
 "cells": [
  {
   "cell_type": "code",
   "execution_count": 1,
   "metadata": {},
   "outputs": [],
   "source": [
    "import pandas as pd\n",
    "import numpy as np\n",
    "import seaborn as sns\n",
    "import matplotlib.pyplot as plt\n",
    "\n",
    "from sklearn.model_selection import train_test_split , cross_val_score , KFold\n",
    "from sklearn.metrics import accuracy_score\n",
    "\n",
    "from sklearn.neighbors import KNeighborsClassifier\n",
    "from sklearn.svm import SVC\n",
    "from sklearn.linear_model import LogisticRegression\n",
    "from sklearn.tree import DecisionTreeClassifier\n",
    "from sklearn.naive_bayes import GaussianNB\n",
    "from sklearn.ensemble import RandomForestClassifier\n",
    "from sklearn.ensemble import GradientBoostingClassifier\n",
    "\n",
    "import warnings\n",
    "warnings.filterwarnings(\"ignore\")"
   ]
  },
  {
   "cell_type": "code",
   "execution_count": 2,
   "metadata": {},
   "outputs": [
    {
     "name": "stdout",
     "output_type": "stream",
     "text": [
      "  Name     Score\n",
      "0  KNN  0.708333\n",
      "1  SVC  0.765625\n",
      "2   LR  0.812500\n",
      "3   DT  0.713542\n",
      "4  GNB  0.770833\n",
      "5   RF  0.796875\n",
      "6   GB  0.791667\n",
      "\n",
      "Best Model to Use: LR\n"
     ]
    }
   ],
   "source": [
    "df = pd.read_csv(\"https://raw.githubusercontent.com/mpHarm88/datasets/master/diabetes.csv\")\n",
    "\n",
    "X = df.drop(columns = 'Outcome')\n",
    "y = df.Outcome\n",
    "\n",
    "\n",
    "\n",
    "\n",
    "models = []\n",
    "models.append(('KNN', KNeighborsClassifier()))\n",
    "models.append(('SVC', SVC(max_iter=1000)))\n",
    "models.append(('LR', LogisticRegression(max_iter=1000)))\n",
    "models.append(('DT', DecisionTreeClassifier()))\n",
    "models.append(('GNB', GaussianNB()))\n",
    "models.append(('RF', RandomForestClassifier()))\n",
    "models.append(('GB', GradientBoostingClassifier()))\n",
    "\n",
    "\n",
    "\n",
    "\n",
    "X_train, X_test, y_train, y_test = train_test_split(X, y, stratify = df.Outcome, random_state=10)\n",
    "\n",
    "\n",
    "\n",
    "\n",
    "\n",
    "names = []\n",
    "scores = []\n",
    "for name, model in models:\n",
    "    model.fit(X_train, y_train)\n",
    "    y_pred = model.predict(X_test)\n",
    "    scores.append(accuracy_score(y_test, y_pred))\n",
    "    names.append(name)\n",
    "tr_split = pd.DataFrame({'Name': names, 'Score': scores})\n",
    "\n",
    "\n",
    "\n",
    "\n",
    "print(tr_split)\n",
    "\n",
    "\n",
    "tr_split.set_index(\"Name\",inplace=True)\n",
    "\n",
    "print(    \"\\nBest Model to Use:\" , tr_split.loc[tr_split['Score'] == tr_split[\"Score\"].max()].index[0]    )"
   ]
  },
  {
   "cell_type": "code",
   "execution_count": 3,
   "metadata": {},
   "outputs": [
    {
     "name": "stdout",
     "output_type": "stream",
     "text": [
      "  Name     Score\n",
      "0  KNN  0.726555\n",
      "1  SVC  0.760424\n",
      "2   LR  0.776042\n",
      "3   DT  0.704306\n",
      "4  GNB  0.755178\n",
      "5   RF  0.768182\n",
      "6   GB  0.768199\n",
      "\n",
      "Best Model to Use: LR\n"
     ]
    }
   ],
   "source": [
    "# using cross_val\n",
    "\n",
    "\n",
    "names = []\n",
    "scores = []\n",
    "for name, model in models:\n",
    "    \n",
    "    kfold = KFold(n_splits=10, random_state=10) \n",
    "    score = cross_val_score(model, X, y, cv=kfold, scoring='accuracy').mean()\n",
    "    \n",
    "    names.append(name)\n",
    "    scores.append(score)\n",
    "kf_cross_val = pd.DataFrame({'Name': names, 'Score': scores})\n",
    "\n",
    "\n",
    "\n",
    "print(kf_cross_val)\n",
    "\n",
    "\n",
    "\n",
    "kf_cross_val.set_index(\"Name\",inplace=True)\n",
    "\n",
    "print(    \"\\nBest Model to Use:\" , kf_cross_val.loc[kf_cross_val['Score'] == kf_cross_val[\"Score\"].max()].index[0]    )"
   ]
  },
  {
   "cell_type": "code",
   "execution_count": 4,
   "metadata": {},
   "outputs": [],
   "source": [
    "#ploting the scores (w/o cross_val)\n",
    "\n",
    "\n",
    "\n",
    "\n",
    "# tr_split.reset_index(inplace=True)\n",
    "\n",
    "# axis = sns.barplot(x = 'Name', y = 'Score', data = tr_split)\n",
    "# axis.set(xlabel='Classifier', ylabel='Accuracy')\n",
    "# for p in axis.patches:\n",
    "#     height = p.get_height()\n",
    "#     axis.text(p.get_x() + p.get_width()/2, height + 0.005, '{:1.4f}'.format(height), ha=\"center\") \n",
    "    \n",
    "# plt.show()"
   ]
  },
  {
   "cell_type": "code",
   "execution_count": 5,
   "metadata": {},
   "outputs": [],
   "source": [
    "#ploting the scores (cross_val)\n",
    "\n",
    "\n",
    "\n",
    "\n",
    "# kf_cross_val.reset_index(inplace=True)\n",
    "\n",
    "# axis = sns.barplot(x = 'Name', y = 'Score', data = kf_cross_val)\n",
    "# axis.set(xlabel='Classifier', ylabel='Accuracy')\n",
    "# for p in axis.patches:\n",
    "#     height = p.get_height()\n",
    "#     axis.text(p.get_x() + p.get_width()/2, height + 0.005, '{:1.4f}'.format(height), ha=\"center\") \n",
    "    \n",
    "# plt.show()"
   ]
  }
 ],
 "metadata": {
  "kernelspec": {
   "display_name": "Python 3",
   "language": "python",
   "name": "python3"
  },
  "language_info": {
   "codemirror_mode": {
    "name": "ipython",
    "version": 3
   },
   "file_extension": ".py",
   "mimetype": "text/x-python",
   "name": "python",
   "nbconvert_exporter": "python",
   "pygments_lexer": "ipython3",
   "version": "3.8.2"
  }
 },
 "nbformat": 4,
 "nbformat_minor": 4
}
