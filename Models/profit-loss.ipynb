{
 "cells": [
  {
   "cell_type": "code",
   "execution_count": 1,
   "id": "47a90561-868d-4297-9063-e34428494af4",
   "metadata": {},
   "outputs": [],
   "source": [
    "import requests\n",
    "import pandas as pd\n",
    "from datetime import datetime\n",
    "import psycopg2\n",
    "import time"
   ]
  },
  {
   "cell_type": "code",
   "execution_count": 2,
   "id": "88acea7d-82bd-4154-8ffe-a5693b1acc8d",
   "metadata": {},
   "outputs": [],
   "source": [
    "conn = psycopg2.connect(database=\"postgres\", user=\"postgres\",\n",
    "                        password=\"Aa@123456\", host=\"127.0.0.1\", port=\"5432\")"
   ]
  },
  {
   "cell_type": "code",
   "execution_count": 9,
   "id": "bfdded3f-d974-42bb-99ee-cb7a2b77f5c2",
   "metadata": {},
   "outputs": [
    {
     "data": {
      "text/plain": [
       "{'price': 34614.1, 'operation': 'BUY', 'datetime': '01:29:30'}"
      ]
     },
     "execution_count": 9,
     "metadata": {},
     "output_type": "execute_result"
    }
   ],
   "source": [
    "res = {}\n",
    "cur = conn.cursor()\n",
    "cur.execute('''SELECT created_at, recommendation, price FROM Recommendations ORDER BY created_at DESC LIMIT 1''')\n",
    "rows = cur.fetchall()\n",
    "conn.commit()\n",
    "\n",
    "if rows[0][1] == \"BUY\":\n",
    "    res[\"price\"] = rows[0][2]\n",
    "else:\n",
    "    res[\"price\"] = 0.0\n",
    "    \n",
    "res[\"operation\"] = rows[0][1]\n",
    "res[\"datetime\"] = str(rows[0][0]).split(\" \")[1]\n",
    "\n",
    "res"
   ]
  },
  {
   "cell_type": "code",
   "execution_count": 53,
   "id": "da8ff4ef-2084-45de-a743-690b1a8244bc",
   "metadata": {},
   "outputs": [],
   "source": [
    "cur = conn.cursor()\n",
    "cur.execute('''SELECT created_at, recommendation, price FROM Recommendations''')\n",
    "rows = cur.fetchall()\n",
    "conn.commit()\n",
    "\n",
    "if rows[0][1] == \"SELL\":\n",
    "    rows = rows[1:]\n",
    "\n",
    "    \n",
    "if rows[len(rows) -1][1] == \"BUY\":\n",
    "    rows = rows[:-1]"
   ]
  },
  {
   "cell_type": "code",
   "execution_count": 54,
   "id": "55f0880d-17d4-4ca1-b544-296a4c5151d6",
   "metadata": {},
   "outputs": [],
   "source": [
    "df = pd.DataFrame(rows, columns=['time', 'recommendation', 'price'])\n",
    "df[\"pct\"] = 0\n",
    "df[\"runing_amount\"] = 0"
   ]
  },
  {
   "cell_type": "code",
   "execution_count": 55,
   "id": "2195d1a9-3900-4a03-8960-6f860710015b",
   "metadata": {},
   "outputs": [
    {
     "data": {
      "text/html": [
       "<div>\n",
       "<style scoped>\n",
       "    .dataframe tbody tr th:only-of-type {\n",
       "        vertical-align: middle;\n",
       "    }\n",
       "\n",
       "    .dataframe tbody tr th {\n",
       "        vertical-align: top;\n",
       "    }\n",
       "\n",
       "    .dataframe thead th {\n",
       "        text-align: right;\n",
       "    }\n",
       "</style>\n",
       "<table border=\"1\" class=\"dataframe\">\n",
       "  <thead>\n",
       "    <tr style=\"text-align: right;\">\n",
       "      <th></th>\n",
       "      <th>time</th>\n",
       "      <th>recommendation</th>\n",
       "      <th>price</th>\n",
       "      <th>pct</th>\n",
       "      <th>runing_amount</th>\n",
       "    </tr>\n",
       "  </thead>\n",
       "  <tbody>\n",
       "    <tr>\n",
       "      <th>0</th>\n",
       "      <td>2021-07-01 14:01:00</td>\n",
       "      <td>BUY</td>\n",
       "      <td>33245.25670</td>\n",
       "      <td>0</td>\n",
       "      <td>0</td>\n",
       "    </tr>\n",
       "    <tr>\n",
       "      <th>1</th>\n",
       "      <td>2021-07-01 14:13:30</td>\n",
       "      <td>SELL</td>\n",
       "      <td>33347.49895</td>\n",
       "      <td>0</td>\n",
       "      <td>0</td>\n",
       "    </tr>\n",
       "    <tr>\n",
       "      <th>2</th>\n",
       "      <td>2021-07-01 14:14:00</td>\n",
       "      <td>BUY</td>\n",
       "      <td>33396.16460</td>\n",
       "      <td>0</td>\n",
       "      <td>0</td>\n",
       "    </tr>\n",
       "    <tr>\n",
       "      <th>3</th>\n",
       "      <td>2021-07-01 14:14:30</td>\n",
       "      <td>SELL</td>\n",
       "      <td>33371.53160</td>\n",
       "      <td>0</td>\n",
       "      <td>0</td>\n",
       "    </tr>\n",
       "    <tr>\n",
       "      <th>4</th>\n",
       "      <td>2021-07-01 14:27:30</td>\n",
       "      <td>BUY</td>\n",
       "      <td>33435.43215</td>\n",
       "      <td>0</td>\n",
       "      <td>0</td>\n",
       "    </tr>\n",
       "  </tbody>\n",
       "</table>\n",
       "</div>"
      ],
      "text/plain": [
       "                 time recommendation        price  pct  runing_amount\n",
       "0 2021-07-01 14:01:00            BUY  33245.25670    0              0\n",
       "1 2021-07-01 14:13:30           SELL  33347.49895    0              0\n",
       "2 2021-07-01 14:14:00            BUY  33396.16460    0              0\n",
       "3 2021-07-01 14:14:30           SELL  33371.53160    0              0\n",
       "4 2021-07-01 14:27:30            BUY  33435.43215    0              0"
      ]
     },
     "execution_count": 55,
     "metadata": {},
     "output_type": "execute_result"
    }
   ],
   "source": [
    "df.head()"
   ]
  },
  {
   "cell_type": "code",
   "execution_count": 56,
   "id": "5372d5eb-8395-4e8a-ab24-7acaac58f859",
   "metadata": {},
   "outputs": [],
   "source": [
    "# Investment\n",
    "amount= 100000\n",
    "transactions_num = len(df)\n",
    "transactions_fees = 0.5 # maybe we need to use if statements here\n",
    "total_fees = transactions_num * transactions_fees"
   ]
  },
  {
   "cell_type": "code",
   "execution_count": 57,
   "id": "a7419088-dc4b-48e7-abbf-48d9858ff790",
   "metadata": {},
   "outputs": [
    {
     "name": "stderr",
     "output_type": "stream",
     "text": [
      "/Library/Python/3.8/site-packages/pandas/core/indexing.py:1637: SettingWithCopyWarning: \n",
      "A value is trying to be set on a copy of a slice from a DataFrame\n",
      "\n",
      "See the caveats in the documentation: https://pandas.pydata.org/pandas-docs/stable/user_guide/indexing.html#returning-a-view-versus-a-copy\n",
      "  self._setitem_single_block(indexer, value, name)\n"
     ]
    }
   ],
   "source": [
    "for i in range(len(df)):\n",
    "    if df[\"recommendation\"].iloc[i] == \"SELL\":\n",
    "        df[\"pct\"].iloc[i]=(df[\"price\"].iloc[i]-df[\"price\"].iloc[i-1])/df[\"price\"].iloc[i-1]\n",
    "        if i<=1:\n",
    "            df[\"runing_amount\"].iloc[i]=(1+df[\"pct\"].iloc[i])*amount\n",
    "        else:\n",
    "            df[\"runing_amount\"].iloc[i]=(1+df[\"pct\"].iloc[i])*df[\"runing_amount\"].iloc[i-2]"
   ]
  },
  {
   "cell_type": "code",
   "execution_count": 58,
   "id": "814409a2-7054-4dfd-b3bc-5c4af4666b67",
   "metadata": {},
   "outputs": [
    {
     "data": {
      "text/html": [
       "<div>\n",
       "<style scoped>\n",
       "    .dataframe tbody tr th:only-of-type {\n",
       "        vertical-align: middle;\n",
       "    }\n",
       "\n",
       "    .dataframe tbody tr th {\n",
       "        vertical-align: top;\n",
       "    }\n",
       "\n",
       "    .dataframe thead th {\n",
       "        text-align: right;\n",
       "    }\n",
       "</style>\n",
       "<table border=\"1\" class=\"dataframe\">\n",
       "  <thead>\n",
       "    <tr style=\"text-align: right;\">\n",
       "      <th></th>\n",
       "      <th>time</th>\n",
       "      <th>recommendation</th>\n",
       "      <th>price</th>\n",
       "      <th>pct</th>\n",
       "      <th>runing_amount</th>\n",
       "    </tr>\n",
       "  </thead>\n",
       "  <tbody>\n",
       "    <tr>\n",
       "      <th>0</th>\n",
       "      <td>2021-07-01 14:01:00</td>\n",
       "      <td>BUY</td>\n",
       "      <td>33245.256700</td>\n",
       "      <td>0.000000</td>\n",
       "      <td>0.000000</td>\n",
       "    </tr>\n",
       "    <tr>\n",
       "      <th>1</th>\n",
       "      <td>2021-07-01 14:13:30</td>\n",
       "      <td>SELL</td>\n",
       "      <td>33347.498950</td>\n",
       "      <td>0.003075</td>\n",
       "      <td>100307.539361</td>\n",
       "    </tr>\n",
       "    <tr>\n",
       "      <th>2</th>\n",
       "      <td>2021-07-01 14:14:00</td>\n",
       "      <td>BUY</td>\n",
       "      <td>33396.164600</td>\n",
       "      <td>0.000000</td>\n",
       "      <td>0.000000</td>\n",
       "    </tr>\n",
       "    <tr>\n",
       "      <th>3</th>\n",
       "      <td>2021-07-01 14:14:30</td>\n",
       "      <td>SELL</td>\n",
       "      <td>33371.531600</td>\n",
       "      <td>-0.000738</td>\n",
       "      <td>100233.552553</td>\n",
       "    </tr>\n",
       "    <tr>\n",
       "      <th>4</th>\n",
       "      <td>2021-07-01 14:27:30</td>\n",
       "      <td>BUY</td>\n",
       "      <td>33435.432150</td>\n",
       "      <td>0.000000</td>\n",
       "      <td>0.000000</td>\n",
       "    </tr>\n",
       "    <tr>\n",
       "      <th>...</th>\n",
       "      <td>...</td>\n",
       "      <td>...</td>\n",
       "      <td>...</td>\n",
       "      <td>...</td>\n",
       "      <td>...</td>\n",
       "    </tr>\n",
       "    <tr>\n",
       "      <th>59</th>\n",
       "      <td>2021-07-01 20:35:00</td>\n",
       "      <td>SELL</td>\n",
       "      <td>33477.054650</td>\n",
       "      <td>0.008371</td>\n",
       "      <td>100240.721559</td>\n",
       "    </tr>\n",
       "    <tr>\n",
       "      <th>60</th>\n",
       "      <td>2021-07-01 20:36:30</td>\n",
       "      <td>BUY</td>\n",
       "      <td>33414.041700</td>\n",
       "      <td>0.000000</td>\n",
       "      <td>0.000000</td>\n",
       "    </tr>\n",
       "    <tr>\n",
       "      <th>61</th>\n",
       "      <td>2021-07-01 20:37:30</td>\n",
       "      <td>SELL</td>\n",
       "      <td>33431.811650</td>\n",
       "      <td>0.000532</td>\n",
       "      <td>100294.030663</td>\n",
       "    </tr>\n",
       "    <tr>\n",
       "      <th>62</th>\n",
       "      <td>2021-07-01 20:39:00</td>\n",
       "      <td>BUY</td>\n",
       "      <td>33399.850425</td>\n",
       "      <td>0.000000</td>\n",
       "      <td>0.000000</td>\n",
       "    </tr>\n",
       "    <tr>\n",
       "      <th>63</th>\n",
       "      <td>2021-07-01 20:40:00</td>\n",
       "      <td>SELL</td>\n",
       "      <td>33399.202275</td>\n",
       "      <td>-0.000019</td>\n",
       "      <td>100292.084379</td>\n",
       "    </tr>\n",
       "  </tbody>\n",
       "</table>\n",
       "<p>64 rows × 5 columns</p>\n",
       "</div>"
      ],
      "text/plain": [
       "                  time recommendation         price       pct  runing_amount\n",
       "0  2021-07-01 14:01:00            BUY  33245.256700  0.000000       0.000000\n",
       "1  2021-07-01 14:13:30           SELL  33347.498950  0.003075  100307.539361\n",
       "2  2021-07-01 14:14:00            BUY  33396.164600  0.000000       0.000000\n",
       "3  2021-07-01 14:14:30           SELL  33371.531600 -0.000738  100233.552553\n",
       "4  2021-07-01 14:27:30            BUY  33435.432150  0.000000       0.000000\n",
       "..                 ...            ...           ...       ...            ...\n",
       "59 2021-07-01 20:35:00           SELL  33477.054650  0.008371  100240.721559\n",
       "60 2021-07-01 20:36:30            BUY  33414.041700  0.000000       0.000000\n",
       "61 2021-07-01 20:37:30           SELL  33431.811650  0.000532  100294.030663\n",
       "62 2021-07-01 20:39:00            BUY  33399.850425  0.000000       0.000000\n",
       "63 2021-07-01 20:40:00           SELL  33399.202275 -0.000019  100292.084379\n",
       "\n",
       "[64 rows x 5 columns]"
      ]
     },
     "execution_count": 58,
     "metadata": {},
     "output_type": "execute_result"
    }
   ],
   "source": [
    "df"
   ]
  },
  {
   "cell_type": "code",
   "execution_count": 51,
   "id": "59e2fb9f-89f1-4a83-8f75-2fafa0f72648",
   "metadata": {},
   "outputs": [],
   "source": [
    "rtn_pct=(df[\"runing_amount\"].iloc[-1])/ amount * 100\n",
    "#dollar profit/loss\n",
    "profit_loss= df[\"runing_amount\"].iloc[-1] - amount"
   ]
  },
  {
   "cell_type": "code",
   "execution_count": 52,
   "id": "ff209a3b-a6ed-438e-8bac-ca78983a0057",
   "metadata": {},
   "outputs": [
    {
     "name": "stdout",
     "output_type": "stream",
     "text": [
      "0.0 % \n",
      " -100000.0 \n",
      "\n"
     ]
    }
   ],
   "source": [
    "print(rtn_pct,\"% \\n\",profit_loss,\"\\n\")"
   ]
  },
  {
   "cell_type": "code",
   "execution_count": null,
   "id": "b97b5670-fd0a-4a23-bbb8-7e5fb6db27c4",
   "metadata": {},
   "outputs": [],
   "source": [
    "@btcData.route(\"/btc/profit/details\", methods=[\"GET\"])\n",
    "def get_btc_profit_details():\n",
    "    res = []\n",
    "    cur = conn.cursor()\n",
    "    cur.execute(\n",
    "        '''SELECT created_at, recommendation, price FROM Recommendations ORDER BY created_at DESC LIMIT 6''')\n",
    "    rows = cur.fetchall()\n",
    "    conn.commit()\n",
    "    \n",
    "    rows.reverse()\n",
    "\n",
    "    if len(rows) > 2:\n",
    "        if rows[0][1] == \"SELL\":\n",
    "            rows = rows[1:]\n",
    "\n",
    "        if rows[len(rows) - 1][1] == \"BUY\":\n",
    "            rows = rows[:-1]\n",
    "            \n",
    "    previous_buy = 0\n",
    "    \n",
    "    for i in range(len(rows)):\n",
    "        current_res = {}\n",
    "\n",
    "        if str(rows[i][1]) == \"BUY\":\n",
    "            previous_buy = rows[i][2]\n",
    "            current_res[\"profit/loss\"] = 0.0\n",
    "        else:\n",
    "            current_res[\"profit/loss\"] = rows[i][2] - previous_buy\n",
    "\n",
    "        current_res[\"datetime\"] = str(rows[i][0]).split(\" \")[1]\n",
    "        current_res[\"recommendation\"] = str(rows[i][1])\n",
    "        current_res[\"price\"] = str(rows[i][2])\n",
    "        res.append(current_res)\n",
    "        \n",
    "    result = jsonify(res)\n",
    "    result.headers.add('Access-Control-Allow-Origin', '*')\n",
    "\n",
    "    return result"
   ]
  },
  {
   "cell_type": "code",
   "execution_count": null,
   "id": "a4d62174-e971-45a1-a3fd-995da2d3d1eb",
   "metadata": {},
   "outputs": [],
   "source": [
    "@btcData.route(\"/btc/profit/details/lastOperation\", methods=[\"GET\"])\n",
    "def get_btc_profit_details_last_operation():\n",
    "    res = {}\n",
    "    cur = conn.cursor()\n",
    "    cur.execute(\n",
    "        '''SELECT created_at, recommendation, price FROM Recommendations ORDER BY created_at DESC LIMIT 1''')\n",
    "    rows = cur.fetchall()\n",
    "    conn.commit()\n",
    "\n",
    "    if rows[0][1] == \"BUY\":\n",
    "        res[\"price\"] = rows[0][2]\n",
    "    else:\n",
    "        res[\"price\"] = 0.0\n",
    "        \n",
    "    res[\"operation\"] = rows[0][1]\n",
    "    res[\"datetime\"] = str(rows[0][0]).split(\" \")[1]\n",
    "\n",
    "    result = jsonify(res)\n",
    "    result.headers.add('Access-Control-Allow-Origin', '*')\n",
    "\n",
    "    return result"
   ]
  }
 ],
 "metadata": {
  "kernelspec": {
   "display_name": "Python 3",
   "language": "python",
   "name": "python3"
  },
  "language_info": {
   "codemirror_mode": {
    "name": "ipython",
    "version": 3
   },
   "file_extension": ".py",
   "mimetype": "text/x-python",
   "name": "python",
   "nbconvert_exporter": "python",
   "pygments_lexer": "ipython3",
   "version": "3.8.2"
  }
 },
 "nbformat": 4,
 "nbformat_minor": 5
}
