{
 "cells": [
  {
   "cell_type": "code",
   "execution_count": 1,
   "id": "47a90561-868d-4297-9063-e34428494af4",
   "metadata": {},
   "outputs": [],
   "source": [
    "import requests\n",
    "import pandas as pd\n",
    "from datetime import datetime\n",
    "import psycopg2\n",
    "import time"
   ]
  },
  {
   "cell_type": "code",
   "execution_count": 2,
   "id": "88acea7d-82bd-4154-8ffe-a5693b1acc8d",
   "metadata": {},
   "outputs": [],
   "source": [
    "conn = psycopg2.connect(database=\"postgres\", user=\"postgres\",\n",
    "                        password=\"Aa@123456\", host=\"127.0.0.1\", port=\"5432\")"
   ]
  },
  {
   "cell_type": "code",
   "execution_count": 13,
   "id": "da8ff4ef-2084-45de-a743-690b1a8244bc",
   "metadata": {},
   "outputs": [],
   "source": [
    "cur = conn.cursor()\n",
    "cur.execute('''SELECT created_at, recommendation, price FROM Recommendations;''')\n",
    "rows = cur.fetchall()\n",
    "conn.commit()\n",
    "\n",
    "if rows[0][1] == \"SELL\":\n",
    "    rows = rows[1:]\n",
    "    \n",
    "if rows[len(rows) -1] == \"BUY\":\n",
    "    rows = rows[:-1]"
   ]
  },
  {
   "cell_type": "code",
   "execution_count": 14,
   "id": "55f0880d-17d4-4ca1-b544-296a4c5151d6",
   "metadata": {},
   "outputs": [],
   "source": [
    "df = pd.DataFrame(rows, columns=['time', 'recommendation', 'price'])"
   ]
  },
  {
   "cell_type": "code",
   "execution_count": 22,
   "id": "5372d5eb-8395-4e8a-ab24-7acaac58f859",
   "metadata": {},
   "outputs": [],
   "source": [
    "# Investment\n",
    "amount= 100000\n",
    "transactions_num = len(df)\n",
    "transactions_fees = 0.5 # maybe we need to use if statements here\n",
    "total_fees = transactions_num * transactions_fees"
   ]
  },
  {
   "cell_type": "code",
   "execution_count": 23,
   "id": "a9ca43c3-ecaa-4588-8832-f81fb45a9202",
   "metadata": {},
   "outputs": [],
   "source": [
    "df[\"pct\"]= 0\n",
    "df[\"runing_amount\"]= 0"
   ]
  },
  {
   "cell_type": "code",
   "execution_count": 24,
   "id": "57288839-4877-4288-be2b-dc99bb0e07e8",
   "metadata": {},
   "outputs": [
    {
     "data": {
      "text/html": [
       "<div>\n",
       "<style scoped>\n",
       "    .dataframe tbody tr th:only-of-type {\n",
       "        vertical-align: middle;\n",
       "    }\n",
       "\n",
       "    .dataframe tbody tr th {\n",
       "        vertical-align: top;\n",
       "    }\n",
       "\n",
       "    .dataframe thead th {\n",
       "        text-align: right;\n",
       "    }\n",
       "</style>\n",
       "<table border=\"1\" class=\"dataframe\">\n",
       "  <thead>\n",
       "    <tr style=\"text-align: right;\">\n",
       "      <th></th>\n",
       "      <th>time</th>\n",
       "      <th>recommendation</th>\n",
       "      <th>price</th>\n",
       "      <th>pct</th>\n",
       "      <th>runing_amount</th>\n",
       "    </tr>\n",
       "  </thead>\n",
       "  <tbody>\n",
       "    <tr>\n",
       "      <th>0</th>\n",
       "      <td>2021-06-30 23:44:30</td>\n",
       "      <td>BUY</td>\n",
       "      <td>34984.87915</td>\n",
       "      <td>0</td>\n",
       "      <td>0</td>\n",
       "    </tr>\n",
       "    <tr>\n",
       "      <th>1</th>\n",
       "      <td>2021-06-30 23:45:30</td>\n",
       "      <td>SELL</td>\n",
       "      <td>34980.27085</td>\n",
       "      <td>0</td>\n",
       "      <td>0</td>\n",
       "    </tr>\n",
       "    <tr>\n",
       "      <th>2</th>\n",
       "      <td>2021-06-30 23:47:30</td>\n",
       "      <td>BUY</td>\n",
       "      <td>34950.87665</td>\n",
       "      <td>0</td>\n",
       "      <td>0</td>\n",
       "    </tr>\n",
       "    <tr>\n",
       "      <th>3</th>\n",
       "      <td>2021-06-30 23:51:30</td>\n",
       "      <td>SELL</td>\n",
       "      <td>34900.28000</td>\n",
       "      <td>0</td>\n",
       "      <td>0</td>\n",
       "    </tr>\n",
       "  </tbody>\n",
       "</table>\n",
       "</div>"
      ],
      "text/plain": [
       "                 time recommendation        price  pct  runing_amount\n",
       "0 2021-06-30 23:44:30            BUY  34984.87915    0              0\n",
       "1 2021-06-30 23:45:30           SELL  34980.27085    0              0\n",
       "2 2021-06-30 23:47:30            BUY  34950.87665    0              0\n",
       "3 2021-06-30 23:51:30           SELL  34900.28000    0              0"
      ]
     },
     "execution_count": 24,
     "metadata": {},
     "output_type": "execute_result"
    }
   ],
   "source": [
    "df"
   ]
  },
  {
   "cell_type": "code",
   "execution_count": 29,
   "id": "a7419088-dc4b-48e7-abbf-48d9858ff790",
   "metadata": {},
   "outputs": [],
   "source": [
    "x=0\n",
    "\n",
    "for i in range(len(df)):\n",
    "    if df[\"recommendation\"].iloc[x] == \"SELL\":\n",
    "        df[\"pct\"].iloc[i]=(df[\"price\"].iloc[i]-df[\"price\"].iloc[i-1])/df[\"price\"].iloc[i-1]\n",
    "        if x<=1:\n",
    "            df[\"runing_amount\"].iloc[i]=(1+df[\"pct\"].iloc[i])*amount\n",
    "        else:\n",
    "            df[\"runing_amount\"].iloc[i]=(1+df[\"pct\"].iloc[i])*df[\"runing_amount\"].iloc[i-2]"
   ]
  },
  {
   "cell_type": "code",
   "execution_count": 30,
   "id": "59e2fb9f-89f1-4a83-8f75-2fafa0f72648",
   "metadata": {},
   "outputs": [],
   "source": [
    "rtn_pct=(df[\"runing_amount\"].iloc[-1])/ amount * 100\n",
    "#dollar profit/loss\n",
    "profit_loss= df[\"runing_amount\"].iloc[-1] - amount"
   ]
  },
  {
   "cell_type": "code",
   "execution_count": 31,
   "id": "ff209a3b-a6ed-438e-8bac-ca78983a0057",
   "metadata": {},
   "outputs": [
    {
     "name": "stdout",
     "output_type": "stream",
     "text": [
      "99.84208176827468 % \n",
      " -157.9182317253144 \n",
      "\n"
     ]
    }
   ],
   "source": [
    "print(rtn_pct,\"% \\n\",profit_loss,\"\\n\")"
   ]
  },
  {
   "cell_type": "code",
   "execution_count": null,
   "id": "b97b5670-fd0a-4a23-bbb8-7e5fb6db27c4",
   "metadata": {},
   "outputs": [],
   "source": [
    "@btcData.route(\"/btc/profit\", methods=[\"GET\"])\n",
    "def get_btc_profit():\n",
    "    res = {}\n",
    "    cur = conn.cursor()\n",
    "    cur.execute('''SELECT created_at, recommendation, price FROM Recommendations;''')\n",
    "    rows = cur.fetchall()\n",
    "    conn.commit()\n",
    "\n",
    "    if rows[0][1] == \"SELL\":\n",
    "        rows = rows[1:]\n",
    "\n",
    "    if rows[len(rows) -1] == \"BUY\":\n",
    "        rows = rows[:-1]\n",
    "        \n",
    "    df = pd.DataFrame(rows, columns=['time', 'recommendation', 'price'])\n",
    "    df[\"pct\"]= 0\n",
    "    df[\"runing_amount\"]= 0\n",
    "    \n",
    "    # Investment\n",
    "    amount= 100000\n",
    "    transactions_num = len(df)\n",
    "    transactions_fees = 0.5 # maybe we need to use if statements here\n",
    "    total_fees = transactions_num * transactions_fees\n",
    "    \n",
    "    for i in range(len(df)):\n",
    "        if df[\"recommendation\"].iloc[x] == \"SELL\":\n",
    "            df[\"pct\"].iloc[i]=(df[\"price\"].iloc[i]-df[\"price\"].iloc[i-1])/df[\"price\"].iloc[i-1]\n",
    "            if x<=1:\n",
    "                df[\"runing_amount\"].iloc[i]=(1+df[\"pct\"].iloc[i])*amount\n",
    "            else:\n",
    "                df[\"runing_amount\"].iloc[i]=(1+df[\"pct\"].iloc[i])*df[\"runing_amount\"].iloc[i-2]\n",
    "    \n",
    "    rtn_pct=(df[\"runing_amount\"].iloc[-1])/ amount * 100\n",
    "    \n",
    "    # dollar profit/loss\n",
    "    profit_loss= df[\"runing_amount\"].iloc[-1] - amount\n",
    "    \n",
    "    res[\"rtn_pct\"] = rtn_pct\n",
    "    res[\"profit_loss\"] = profit_loss\n",
    "    \n",
    "    result = jsonify(res)\n",
    "    result.headers.add('Access-Control-Allow-Origin', '*')\n",
    "\n",
    "    return result"
   ]
  }
 ],
 "metadata": {
  "kernelspec": {
   "display_name": "Python 3",
   "language": "python",
   "name": "python3"
  },
  "language_info": {
   "codemirror_mode": {
    "name": "ipython",
    "version": 3
   },
   "file_extension": ".py",
   "mimetype": "text/x-python",
   "name": "python",
   "nbconvert_exporter": "python",
   "pygments_lexer": "ipython3",
   "version": "3.8.2"
  }
 },
 "nbformat": 4,
 "nbformat_minor": 5
}
