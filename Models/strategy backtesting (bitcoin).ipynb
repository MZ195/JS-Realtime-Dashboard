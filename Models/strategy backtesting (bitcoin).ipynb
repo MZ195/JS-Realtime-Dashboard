{
 "cells": [
  {
   "cell_type": "code",
   "execution_count": 64,
   "metadata": {},
   "outputs": [],
   "source": [
    "import pandas as pd\n",
    "import numpy as np\n",
    "import warnings\n",
    "\n",
    "warnings.filterwarnings(\"ignore\")"
   ]
  },
  {
   "cell_type": "code",
   "execution_count": 121,
   "metadata": {},
   "outputs": [],
   "source": [
    "# Read the data\n",
    "df_btc = pd.read_csv(\"/Users/mz195/BTC_price_db.csv\")\n",
    "df_overall = pd.read_csv(\"/Users/mz195/overall_predictions.csv\")"
   ]
  },
  {
   "cell_type": "code",
   "execution_count": 122,
   "metadata": {},
   "outputs": [],
   "source": [
    "df = df_btc.merge(df_overall, on='time_')\n",
    "\n",
    "df_overall[\"price_avg\"]=df[\"price_avg\"]\n",
    "df_overall['overall'] = df_overall['overall'].shift(periods=-2)\n",
    "\n",
    "df= df_overall.dropna()\n",
    "df[\"diff\"]=  df[\"overall\"] - df[\"price_avg\"]\n",
    "df[\"Last_Updated_Signal\"]=[\"NaN\"]*len(df)"
   ]
  },
  {
   "cell_type": "code",
   "execution_count": 123,
   "metadata": {},
   "outputs": [
    {
     "data": {
      "text/html": [
       "<div>\n",
       "<style scoped>\n",
       "    .dataframe tbody tr th:only-of-type {\n",
       "        vertical-align: middle;\n",
       "    }\n",
       "\n",
       "    .dataframe tbody tr th {\n",
       "        vertical-align: top;\n",
       "    }\n",
       "\n",
       "    .dataframe thead th {\n",
       "        text-align: right;\n",
       "    }\n",
       "</style>\n",
       "<table border=\"1\" class=\"dataframe\">\n",
       "  <thead>\n",
       "    <tr style=\"text-align: right;\">\n",
       "      <th></th>\n",
       "      <th>time_</th>\n",
       "      <th>overall</th>\n",
       "      <th>price_avg</th>\n",
       "      <th>diff</th>\n",
       "      <th>Last_Updated_Signal</th>\n",
       "    </tr>\n",
       "  </thead>\n",
       "  <tbody>\n",
       "    <tr>\n",
       "      <th>0</th>\n",
       "      <td>2021-06-30 23:01:30</td>\n",
       "      <td>34751.107751</td>\n",
       "      <td>34790.740667</td>\n",
       "      <td>-39.632915</td>\n",
       "      <td>NaN</td>\n",
       "    </tr>\n",
       "    <tr>\n",
       "      <th>1</th>\n",
       "      <td>2021-06-30 23:01:00</td>\n",
       "      <td>34748.785452</td>\n",
       "      <td>34772.246675</td>\n",
       "      <td>-23.461223</td>\n",
       "      <td>NaN</td>\n",
       "    </tr>\n",
       "    <tr>\n",
       "      <th>2</th>\n",
       "      <td>2021-06-30 23:00:30</td>\n",
       "      <td>34751.560387</td>\n",
       "      <td>34762.472233</td>\n",
       "      <td>-10.911846</td>\n",
       "      <td>NaN</td>\n",
       "    </tr>\n",
       "    <tr>\n",
       "      <th>3</th>\n",
       "      <td>2021-06-30 23:00:00</td>\n",
       "      <td>34748.769655</td>\n",
       "      <td>34767.591125</td>\n",
       "      <td>-18.821470</td>\n",
       "      <td>NaN</td>\n",
       "    </tr>\n",
       "    <tr>\n",
       "      <th>4</th>\n",
       "      <td>2021-06-30 22:59:30</td>\n",
       "      <td>34750.097632</td>\n",
       "      <td>34769.175600</td>\n",
       "      <td>-19.077968</td>\n",
       "      <td>NaN</td>\n",
       "    </tr>\n",
       "    <tr>\n",
       "      <th>...</th>\n",
       "      <td>...</td>\n",
       "      <td>...</td>\n",
       "      <td>...</td>\n",
       "      <td>...</td>\n",
       "      <td>...</td>\n",
       "    </tr>\n",
       "    <tr>\n",
       "      <th>115</th>\n",
       "      <td>2021-06-30 22:04:00</td>\n",
       "      <td>34723.829911</td>\n",
       "      <td>34751.887275</td>\n",
       "      <td>-28.057364</td>\n",
       "      <td>NaN</td>\n",
       "    </tr>\n",
       "    <tr>\n",
       "      <th>116</th>\n",
       "      <td>2021-06-30 22:03:30</td>\n",
       "      <td>34740.820525</td>\n",
       "      <td>34752.176367</td>\n",
       "      <td>-11.355842</td>\n",
       "      <td>NaN</td>\n",
       "    </tr>\n",
       "    <tr>\n",
       "      <th>117</th>\n",
       "      <td>2021-06-30 22:03:00</td>\n",
       "      <td>34752.973052</td>\n",
       "      <td>34756.373650</td>\n",
       "      <td>-3.400598</td>\n",
       "      <td>NaN</td>\n",
       "    </tr>\n",
       "    <tr>\n",
       "      <th>118</th>\n",
       "      <td>2021-06-30 22:02:30</td>\n",
       "      <td>34758.300133</td>\n",
       "      <td>34756.044333</td>\n",
       "      <td>2.255800</td>\n",
       "      <td>NaN</td>\n",
       "    </tr>\n",
       "    <tr>\n",
       "      <th>119</th>\n",
       "      <td>2021-06-30 22:02:00</td>\n",
       "      <td>34759.806265</td>\n",
       "      <td>34781.645850</td>\n",
       "      <td>-21.839585</td>\n",
       "      <td>NaN</td>\n",
       "    </tr>\n",
       "  </tbody>\n",
       "</table>\n",
       "<p>120 rows × 5 columns</p>\n",
       "</div>"
      ],
      "text/plain": [
       "                   time_       overall     price_avg       diff  \\\n",
       "0    2021-06-30 23:01:30  34751.107751  34790.740667 -39.632915   \n",
       "1    2021-06-30 23:01:00  34748.785452  34772.246675 -23.461223   \n",
       "2    2021-06-30 23:00:30  34751.560387  34762.472233 -10.911846   \n",
       "3    2021-06-30 23:00:00  34748.769655  34767.591125 -18.821470   \n",
       "4    2021-06-30 22:59:30  34750.097632  34769.175600 -19.077968   \n",
       "..                   ...           ...           ...        ...   \n",
       "115  2021-06-30 22:04:00  34723.829911  34751.887275 -28.057364   \n",
       "116  2021-06-30 22:03:30  34740.820525  34752.176367 -11.355842   \n",
       "117  2021-06-30 22:03:00  34752.973052  34756.373650  -3.400598   \n",
       "118  2021-06-30 22:02:30  34758.300133  34756.044333   2.255800   \n",
       "119  2021-06-30 22:02:00  34759.806265  34781.645850 -21.839585   \n",
       "\n",
       "    Last_Updated_Signal  \n",
       "0                   NaN  \n",
       "1                   NaN  \n",
       "2                   NaN  \n",
       "3                   NaN  \n",
       "4                   NaN  \n",
       "..                  ...  \n",
       "115                 NaN  \n",
       "116                 NaN  \n",
       "117                 NaN  \n",
       "118                 NaN  \n",
       "119                 NaN  \n",
       "\n",
       "[120 rows x 5 columns]"
      ]
     },
     "execution_count": 123,
     "metadata": {},
     "output_type": "execute_result"
    }
   ],
   "source": [
    "df"
   ]
  },
  {
   "cell_type": "code",
   "execution_count": 124,
   "metadata": {},
   "outputs": [],
   "source": [
    "def update_signal(x):\n",
    "    if x < 0:\n",
    "        return \"Resistance_Breakout\"\n",
    "    else:\n",
    "        return \"Support_Breakout\""
   ]
  },
  {
   "cell_type": "code",
   "execution_count": 125,
   "metadata": {},
   "outputs": [],
   "source": [
    "df[\"Last_Updated_Signal\"] = df[\"diff\"].apply(update_signal)\n",
    "df[\"Recommendation\"]=[\"HOLD\"]*len(df)"
   ]
  },
  {
   "cell_type": "code",
   "execution_count": 126,
   "metadata": {},
   "outputs": [],
   "source": [
    "\n",
    "x=0\n",
    "while x < (len(df)-1):\n",
    "    \n",
    "    if df[\"Last_Updated_Signal\"].iloc[x]==\"Support_Breakout\" and df[\"Last_Updated_Signal\"].iloc[x+1]==\"Resistance_Breakout\":\n",
    "        df[\"Recommendation\"].iloc[x+1]=\"SELL\"\n",
    "        \n",
    "    elif df[\"Last_Updated_Signal\"].iloc[x] == \"Resistance_Breakout\" and df[\"Last_Updated_Signal\"].iloc[x+1]==\"Support_Breakout\":\n",
    "        df[\"Recommendation\"].iloc[x+1]=\"BUY\"\n",
    "        \n",
    "    else:\n",
    "        df[\"Recommendation\"].iloc[x+1]=\"HOLD\"\n",
    "        \n",
    "    x=x+1"
   ]
  },
  {
   "cell_type": "code",
   "execution_count": 127,
   "metadata": {},
   "outputs": [
    {
     "data": {
      "text/html": [
       "<div>\n",
       "<style scoped>\n",
       "    .dataframe tbody tr th:only-of-type {\n",
       "        vertical-align: middle;\n",
       "    }\n",
       "\n",
       "    .dataframe tbody tr th {\n",
       "        vertical-align: top;\n",
       "    }\n",
       "\n",
       "    .dataframe thead th {\n",
       "        text-align: right;\n",
       "    }\n",
       "</style>\n",
       "<table border=\"1\" class=\"dataframe\">\n",
       "  <thead>\n",
       "    <tr style=\"text-align: right;\">\n",
       "      <th></th>\n",
       "      <th>time_</th>\n",
       "      <th>overall</th>\n",
       "      <th>price_avg</th>\n",
       "      <th>diff</th>\n",
       "      <th>Last_Updated_Signal</th>\n",
       "      <th>Recommendation</th>\n",
       "    </tr>\n",
       "  </thead>\n",
       "  <tbody>\n",
       "    <tr>\n",
       "      <th>0</th>\n",
       "      <td>2021-06-30 23:01:30</td>\n",
       "      <td>34751.107751</td>\n",
       "      <td>34790.740667</td>\n",
       "      <td>-39.632915</td>\n",
       "      <td>Resistance_Breakout</td>\n",
       "      <td>HOLD</td>\n",
       "    </tr>\n",
       "    <tr>\n",
       "      <th>1</th>\n",
       "      <td>2021-06-30 23:01:00</td>\n",
       "      <td>34748.785452</td>\n",
       "      <td>34772.246675</td>\n",
       "      <td>-23.461223</td>\n",
       "      <td>Resistance_Breakout</td>\n",
       "      <td>HOLD</td>\n",
       "    </tr>\n",
       "    <tr>\n",
       "      <th>2</th>\n",
       "      <td>2021-06-30 23:00:30</td>\n",
       "      <td>34751.560387</td>\n",
       "      <td>34762.472233</td>\n",
       "      <td>-10.911846</td>\n",
       "      <td>Resistance_Breakout</td>\n",
       "      <td>HOLD</td>\n",
       "    </tr>\n",
       "    <tr>\n",
       "      <th>3</th>\n",
       "      <td>2021-06-30 23:00:00</td>\n",
       "      <td>34748.769655</td>\n",
       "      <td>34767.591125</td>\n",
       "      <td>-18.821470</td>\n",
       "      <td>Resistance_Breakout</td>\n",
       "      <td>HOLD</td>\n",
       "    </tr>\n",
       "    <tr>\n",
       "      <th>4</th>\n",
       "      <td>2021-06-30 22:59:30</td>\n",
       "      <td>34750.097632</td>\n",
       "      <td>34769.175600</td>\n",
       "      <td>-19.077968</td>\n",
       "      <td>Resistance_Breakout</td>\n",
       "      <td>HOLD</td>\n",
       "    </tr>\n",
       "    <tr>\n",
       "      <th>...</th>\n",
       "      <td>...</td>\n",
       "      <td>...</td>\n",
       "      <td>...</td>\n",
       "      <td>...</td>\n",
       "      <td>...</td>\n",
       "      <td>...</td>\n",
       "    </tr>\n",
       "    <tr>\n",
       "      <th>115</th>\n",
       "      <td>2021-06-30 22:04:00</td>\n",
       "      <td>34723.829911</td>\n",
       "      <td>34751.887275</td>\n",
       "      <td>-28.057364</td>\n",
       "      <td>Resistance_Breakout</td>\n",
       "      <td>HOLD</td>\n",
       "    </tr>\n",
       "    <tr>\n",
       "      <th>116</th>\n",
       "      <td>2021-06-30 22:03:30</td>\n",
       "      <td>34740.820525</td>\n",
       "      <td>34752.176367</td>\n",
       "      <td>-11.355842</td>\n",
       "      <td>Resistance_Breakout</td>\n",
       "      <td>HOLD</td>\n",
       "    </tr>\n",
       "    <tr>\n",
       "      <th>117</th>\n",
       "      <td>2021-06-30 22:03:00</td>\n",
       "      <td>34752.973052</td>\n",
       "      <td>34756.373650</td>\n",
       "      <td>-3.400598</td>\n",
       "      <td>Resistance_Breakout</td>\n",
       "      <td>HOLD</td>\n",
       "    </tr>\n",
       "    <tr>\n",
       "      <th>118</th>\n",
       "      <td>2021-06-30 22:02:30</td>\n",
       "      <td>34758.300133</td>\n",
       "      <td>34756.044333</td>\n",
       "      <td>2.255800</td>\n",
       "      <td>Support_Breakout</td>\n",
       "      <td>BUY</td>\n",
       "    </tr>\n",
       "    <tr>\n",
       "      <th>119</th>\n",
       "      <td>2021-06-30 22:02:00</td>\n",
       "      <td>34759.806265</td>\n",
       "      <td>34781.645850</td>\n",
       "      <td>-21.839585</td>\n",
       "      <td>Resistance_Breakout</td>\n",
       "      <td>SELL</td>\n",
       "    </tr>\n",
       "  </tbody>\n",
       "</table>\n",
       "<p>120 rows × 6 columns</p>\n",
       "</div>"
      ],
      "text/plain": [
       "                   time_       overall     price_avg       diff  \\\n",
       "0    2021-06-30 23:01:30  34751.107751  34790.740667 -39.632915   \n",
       "1    2021-06-30 23:01:00  34748.785452  34772.246675 -23.461223   \n",
       "2    2021-06-30 23:00:30  34751.560387  34762.472233 -10.911846   \n",
       "3    2021-06-30 23:00:00  34748.769655  34767.591125 -18.821470   \n",
       "4    2021-06-30 22:59:30  34750.097632  34769.175600 -19.077968   \n",
       "..                   ...           ...           ...        ...   \n",
       "115  2021-06-30 22:04:00  34723.829911  34751.887275 -28.057364   \n",
       "116  2021-06-30 22:03:30  34740.820525  34752.176367 -11.355842   \n",
       "117  2021-06-30 22:03:00  34752.973052  34756.373650  -3.400598   \n",
       "118  2021-06-30 22:02:30  34758.300133  34756.044333   2.255800   \n",
       "119  2021-06-30 22:02:00  34759.806265  34781.645850 -21.839585   \n",
       "\n",
       "     Last_Updated_Signal Recommendation  \n",
       "0    Resistance_Breakout           HOLD  \n",
       "1    Resistance_Breakout           HOLD  \n",
       "2    Resistance_Breakout           HOLD  \n",
       "3    Resistance_Breakout           HOLD  \n",
       "4    Resistance_Breakout           HOLD  \n",
       "..                   ...            ...  \n",
       "115  Resistance_Breakout           HOLD  \n",
       "116  Resistance_Breakout           HOLD  \n",
       "117  Resistance_Breakout           HOLD  \n",
       "118     Support_Breakout            BUY  \n",
       "119  Resistance_Breakout           SELL  \n",
       "\n",
       "[120 rows x 6 columns]"
      ]
     },
     "execution_count": 127,
     "metadata": {},
     "output_type": "execute_result"
    }
   ],
   "source": [
    "df"
   ]
  },
  {
   "cell_type": "code",
   "execution_count": 128,
   "metadata": {},
   "outputs": [],
   "source": [
    "transactions_df = df[(df['Recommendation'] == \"BUY\") | (df['Recommendation'] == \"SELL\")]"
   ]
  },
  {
   "cell_type": "code",
   "execution_count": 129,
   "metadata": {},
   "outputs": [
    {
     "data": {
      "text/html": [
       "<div>\n",
       "<style scoped>\n",
       "    .dataframe tbody tr th:only-of-type {\n",
       "        vertical-align: middle;\n",
       "    }\n",
       "\n",
       "    .dataframe tbody tr th {\n",
       "        vertical-align: top;\n",
       "    }\n",
       "\n",
       "    .dataframe thead th {\n",
       "        text-align: right;\n",
       "    }\n",
       "</style>\n",
       "<table border=\"1\" class=\"dataframe\">\n",
       "  <thead>\n",
       "    <tr style=\"text-align: right;\">\n",
       "      <th></th>\n",
       "      <th>time_</th>\n",
       "      <th>overall</th>\n",
       "      <th>price_avg</th>\n",
       "      <th>diff</th>\n",
       "      <th>Last_Updated_Signal</th>\n",
       "      <th>Recommendation</th>\n",
       "    </tr>\n",
       "  </thead>\n",
       "  <tbody>\n",
       "    <tr>\n",
       "      <th>20</th>\n",
       "      <td>2021-06-30 22:51:30</td>\n",
       "      <td>34796.317587</td>\n",
       "      <td>34762.800000</td>\n",
       "      <td>33.517587</td>\n",
       "      <td>Support_Breakout</td>\n",
       "      <td>BUY</td>\n",
       "    </tr>\n",
       "    <tr>\n",
       "      <th>59</th>\n",
       "      <td>2021-06-30 22:32:00</td>\n",
       "      <td>34763.995733</td>\n",
       "      <td>34795.226450</td>\n",
       "      <td>-31.230717</td>\n",
       "      <td>Resistance_Breakout</td>\n",
       "      <td>SELL</td>\n",
       "    </tr>\n",
       "    <tr>\n",
       "      <th>98</th>\n",
       "      <td>2021-06-30 22:12:30</td>\n",
       "      <td>34768.329538</td>\n",
       "      <td>34766.547467</td>\n",
       "      <td>1.782072</td>\n",
       "      <td>Support_Breakout</td>\n",
       "      <td>BUY</td>\n",
       "    </tr>\n",
       "    <tr>\n",
       "      <th>104</th>\n",
       "      <td>2021-06-30 22:09:30</td>\n",
       "      <td>34739.024100</td>\n",
       "      <td>34752.281933</td>\n",
       "      <td>-13.257834</td>\n",
       "      <td>Resistance_Breakout</td>\n",
       "      <td>SELL</td>\n",
       "    </tr>\n",
       "    <tr>\n",
       "      <th>118</th>\n",
       "      <td>2021-06-30 22:02:30</td>\n",
       "      <td>34758.300133</td>\n",
       "      <td>34756.044333</td>\n",
       "      <td>2.255800</td>\n",
       "      <td>Support_Breakout</td>\n",
       "      <td>BUY</td>\n",
       "    </tr>\n",
       "    <tr>\n",
       "      <th>119</th>\n",
       "      <td>2021-06-30 22:02:00</td>\n",
       "      <td>34759.806265</td>\n",
       "      <td>34781.645850</td>\n",
       "      <td>-21.839585</td>\n",
       "      <td>Resistance_Breakout</td>\n",
       "      <td>SELL</td>\n",
       "    </tr>\n",
       "  </tbody>\n",
       "</table>\n",
       "</div>"
      ],
      "text/plain": [
       "                   time_       overall     price_avg       diff  \\\n",
       "20   2021-06-30 22:51:30  34796.317587  34762.800000  33.517587   \n",
       "59   2021-06-30 22:32:00  34763.995733  34795.226450 -31.230717   \n",
       "98   2021-06-30 22:12:30  34768.329538  34766.547467   1.782072   \n",
       "104  2021-06-30 22:09:30  34739.024100  34752.281933 -13.257834   \n",
       "118  2021-06-30 22:02:30  34758.300133  34756.044333   2.255800   \n",
       "119  2021-06-30 22:02:00  34759.806265  34781.645850 -21.839585   \n",
       "\n",
       "     Last_Updated_Signal Recommendation  \n",
       "20      Support_Breakout            BUY  \n",
       "59   Resistance_Breakout           SELL  \n",
       "98      Support_Breakout            BUY  \n",
       "104  Resistance_Breakout           SELL  \n",
       "118     Support_Breakout            BUY  \n",
       "119  Resistance_Breakout           SELL  "
      ]
     },
     "execution_count": 129,
     "metadata": {},
     "output_type": "execute_result"
    }
   ],
   "source": [
    "transactions_df"
   ]
  },
  {
   "cell_type": "code",
   "execution_count": 130,
   "metadata": {},
   "outputs": [
    {
     "name": "stdout",
     "output_type": "stream",
     "text": [
      "20      BUY\n",
      "119    SELL\n",
      "Name: Recommendation, dtype: object\n"
     ]
    }
   ],
   "source": [
    "if len(transactions_df) > 3:\n",
    "    if transactions_df[\"Recommendation\"].iloc[0] == \"SELL\" or transactions_df[\"Recommendation\"].iloc[len(transactions_df) -1] == \"BUY\":\n",
    "        transactions_df.drop(index=transactions_df.index[0], axis=0,inplace=True)\n",
    "\n",
    "check = transactions_df[\"Recommendation\"].iloc[[0,-1]]\n",
    "print(check)"
   ]
  },
  {
   "cell_type": "code",
   "execution_count": 131,
   "metadata": {},
   "outputs": [],
   "source": [
    "# Investment\n",
    "amount= 100000"
   ]
  },
  {
   "cell_type": "code",
   "execution_count": 132,
   "metadata": {},
   "outputs": [],
   "source": [
    "transactions_num = len(transactions_df)\n",
    "transactions_fees = 0.5 # maybe we need to use if statements here\n",
    "total_fees = transactions_num * transactions_fees"
   ]
  },
  {
   "cell_type": "code",
   "execution_count": 133,
   "metadata": {},
   "outputs": [],
   "source": [
    "sell_email_notification = list(df.loc[df['Recommendation'] == \"SELL\"].index)\n",
    "buy_email_notification = list(df.loc[df['Recommendation'] == \"BUY\"].index)"
   ]
  },
  {
   "cell_type": "code",
   "execution_count": 134,
   "metadata": {},
   "outputs": [],
   "source": [
    "transactions_df[\"pct\"]=[\"0\"]*len(transactions_df)\n",
    "transactions_df[\"runing_amount\"]=[0]*len(transactions_df)"
   ]
  },
  {
   "cell_type": "code",
   "execution_count": 135,
   "metadata": {},
   "outputs": [],
   "source": [
    "x=0\n",
    "while x <= len(transactions_df)-1:\n",
    "    if transactions_df[\"Recommendation\"].iloc[x] == \"SELL\":\n",
    "        transactions_df[\"pct\"].iloc[x]=(transactions_df[\"price_avg\"].iloc[x]-transactions_df[\"price_avg\"].iloc[x-1])/transactions_df[\"price_avg\"].iloc[x-1]\n",
    "        if x<=1:\n",
    "            transactions_df[\"runing_amount\"].iloc[x]=(1+transactions_df[\"pct\"].iloc[x])*amount\n",
    "        else:\n",
    "            transactions_df[\"runing_amount\"].iloc[x]=(1+transactions_df[\"pct\"].iloc[x])*transactions_df[\"runing_amount\"].iloc[x-2]\n",
    "    x=x+1"
   ]
  },
  {
   "cell_type": "code",
   "execution_count": 136,
   "metadata": {},
   "outputs": [],
   "source": [
    "rtn_pct=(transactions_df[\"runing_amount\"].iloc[-1])/ amount * 100\n",
    "#dollar profit/loss\n",
    "profit_loss= transactions_df[\"runing_amount\"].iloc[-1] - amount"
   ]
  },
  {
   "cell_type": "code",
   "execution_count": 137,
   "metadata": {},
   "outputs": [
    {
     "name": "stdout",
     "output_type": "stream",
     "text": [
      "100.12590761018045 % \n",
      " 125.90761018045305 \n",
      "\n"
     ]
    }
   ],
   "source": [
    "print(rtn_pct,\"% \\n\",profit_loss,\"\\n\")"
   ]
  },
  {
   "cell_type": "code",
   "execution_count": 138,
   "metadata": {},
   "outputs": [
    {
     "data": {
      "text/plain": [
       "<AxesSubplot:>"
      ]
     },
     "execution_count": 138,
     "metadata": {},
     "output_type": "execute_result"
    },
    {
     "data": {
      "image/png": "[encoded data removed]",
      "text/plain": [
       "<Figure size 1152x648 with 1 Axes>"
      ]
     },
     "metadata": {
      "needs_background": "light"
     },
     "output_type": "display_data"
    }
   ],
   "source": [
    "df[[\"price_avg\",\"overall\"]].plot(figsize=(16,9)) "
   ]
  },
  {
   "cell_type": "code",
   "execution_count": null,
   "metadata": {},
   "outputs": [],
   "source": []
  }
 ],
 "metadata": {
  "kernelspec": {
   "display_name": "Python 3",
   "language": "python",
   "name": "python3"
  },
  "language_info": {
   "codemirror_mode": {
    "name": "ipython",
    "version": 3
   },
   "file_extension": ".py",
   "mimetype": "text/x-python",
   "name": "python",
   "nbconvert_exporter": "python",
   "pygments_lexer": "ipython3",
   "version": "3.8.2"
  }
 },
 "nbformat": 4,
 "nbformat_minor": 4
}
