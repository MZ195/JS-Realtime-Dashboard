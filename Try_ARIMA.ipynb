{
 "cells": [
  {
   "cell_type": "code",
   "execution_count": 7,
   "id": "8d588cf8-e85a-4a38-b360-3200701cc855",
   "metadata": {},
   "outputs": [],
   "source": [
    "import pandas as pd\n",
    "import numpy as np\n",
    "import seaborn as sns\n",
    "import matplotlib.pyplot as plt\n",
    "from sklearn.model_selection import train_test_split\n",
    "from sklearn.linear_model import LinearRegression\n",
    "\n",
    "\n",
    "from sklearn.model_selection import TimeSeriesSplit\n",
    "from statsmodels.tsa.arima_model import ARIMA"
   ]
  },
  {
   "cell_type": "code",
   "execution_count": null,
   "id": "d82ddc72-e994-4bc1-91db-8fb59ebbb61a",
   "metadata": {},
   "outputs": [],
   "source": [
    "import warnings\n",
    "warnings.fit"
   ]
  },
  {
   "cell_type": "code",
   "execution_count": 2,
   "id": "074552bd-9b16-405a-8877-3004007173a7",
   "metadata": {},
   "outputs": [
    {
     "data": {
      "text/html": [
       "<div>\n",
       "<style scoped>\n",
       "    .dataframe tbody tr th:only-of-type {\n",
       "        vertical-align: middle;\n",
       "    }\n",
       "\n",
       "    .dataframe tbody tr th {\n",
       "        vertical-align: top;\n",
       "    }\n",
       "\n",
       "    .dataframe thead th {\n",
       "        text-align: right;\n",
       "    }\n",
       "</style>\n",
       "<table border=\"1\" class=\"dataframe\">\n",
       "  <thead>\n",
       "    <tr style=\"text-align: right;\">\n",
       "      <th></th>\n",
       "      <th>avg</th>\n",
       "      <th>new_time</th>\n",
       "    </tr>\n",
       "  </thead>\n",
       "  <tbody>\n",
       "    <tr>\n",
       "      <th>0</th>\n",
       "      <td>34703.25220</td>\n",
       "      <td>2021-06-24 23:00:30+03</td>\n",
       "    </tr>\n",
       "    <tr>\n",
       "      <th>1</th>\n",
       "      <td>34703.25220</td>\n",
       "      <td>2021-06-24 23:01:00+03</td>\n",
       "    </tr>\n",
       "    <tr>\n",
       "      <th>2</th>\n",
       "      <td>34738.71670</td>\n",
       "      <td>2021-06-24 23:01:30+03</td>\n",
       "    </tr>\n",
       "    <tr>\n",
       "      <th>3</th>\n",
       "      <td>34700.33330</td>\n",
       "      <td>2021-06-24 23:02:00+03</td>\n",
       "    </tr>\n",
       "    <tr>\n",
       "      <th>4</th>\n",
       "      <td>34687.14330</td>\n",
       "      <td>2021-06-24 23:02:30+03</td>\n",
       "    </tr>\n",
       "    <tr>\n",
       "      <th>...</th>\n",
       "      <td>...</td>\n",
       "      <td>...</td>\n",
       "    </tr>\n",
       "    <tr>\n",
       "      <th>2411</th>\n",
       "      <td>31596.20860</td>\n",
       "      <td>2021-06-26 00:02:00+03</td>\n",
       "    </tr>\n",
       "    <tr>\n",
       "      <th>2412</th>\n",
       "      <td>31594.41665</td>\n",
       "      <td>2021-06-26 00:02:30+03</td>\n",
       "    </tr>\n",
       "    <tr>\n",
       "      <th>2413</th>\n",
       "      <td>31588.36525</td>\n",
       "      <td>2021-06-26 00:03:00+03</td>\n",
       "    </tr>\n",
       "    <tr>\n",
       "      <th>2414</th>\n",
       "      <td>31545.68165</td>\n",
       "      <td>2021-06-26 00:03:30+03</td>\n",
       "    </tr>\n",
       "    <tr>\n",
       "      <th>2415</th>\n",
       "      <td>31587.61000</td>\n",
       "      <td>2021-06-26 00:04:00+03</td>\n",
       "    </tr>\n",
       "  </tbody>\n",
       "</table>\n",
       "<p>2416 rows × 2 columns</p>\n",
       "</div>"
      ],
      "text/plain": [
       "              avg                new_time\n",
       "0     34703.25220  2021-06-24 23:00:30+03\n",
       "1     34703.25220  2021-06-24 23:01:00+03\n",
       "2     34738.71670  2021-06-24 23:01:30+03\n",
       "3     34700.33330  2021-06-24 23:02:00+03\n",
       "4     34687.14330  2021-06-24 23:02:30+03\n",
       "...           ...                     ...\n",
       "2411  31596.20860  2021-06-26 00:02:00+03\n",
       "2412  31594.41665  2021-06-26 00:02:30+03\n",
       "2413  31588.36525  2021-06-26 00:03:00+03\n",
       "2414  31545.68165  2021-06-26 00:03:30+03\n",
       "2415  31587.61000  2021-06-26 00:04:00+03\n",
       "\n",
       "[2416 rows x 2 columns]"
      ]
     },
     "execution_count": 2,
     "metadata": {},
     "output_type": "execute_result"
    }
   ],
   "source": [
    "price  = pd.read_csv('Processed_BT_PriceDB.csv')\n",
    "tweet  = pd.read_csv('Processed_tweets_db.csv')\n",
    "tweets=tweet\n",
    "price"
   ]
  },
  {
   "cell_type": "code",
   "execution_count": 4,
   "id": "ea9845f7-47d2-4f93-81e7-d84140f826ec",
   "metadata": {},
   "outputs": [],
   "source": [
    "merge=pd.merge(price,tweets, how='left', left_index=False, right_index=False)\n",
    "merge=merge.dropna()\n"
   ]
  },
  {
   "cell_type": "code",
   "execution_count": 5,
   "id": "7e1d0491-180b-498f-b6eb-023fb85ba133",
   "metadata": {},
   "outputs": [
    {
     "name": "stdout",
     "output_type": "stream",
     "text": [
      "(2602, 3)\n",
      "(2416, 2)\n",
      "(1961, 4)\n"
     ]
    }
   ],
   "source": [
    "print(tweets.shape)\n",
    "print(price.shape)\n",
    "\n",
    "print(merge.shape)\n",
    "df1=merge"
   ]
  },
  {
   "cell_type": "code",
   "execution_count": 6,
   "id": "42f92b09-01d6-468d-997d-8bba8363fe1b",
   "metadata": {},
   "outputs": [
    {
     "data": {
      "text/html": [
       "<div>\n",
       "<style scoped>\n",
       "    .dataframe tbody tr th:only-of-type {\n",
       "        vertical-align: middle;\n",
       "    }\n",
       "\n",
       "    .dataframe tbody tr th {\n",
       "        vertical-align: top;\n",
       "    }\n",
       "\n",
       "    .dataframe thead th {\n",
       "        text-align: right;\n",
       "    }\n",
       "</style>\n",
       "<table border=\"1\" class=\"dataframe\">\n",
       "  <thead>\n",
       "    <tr style=\"text-align: right;\">\n",
       "      <th></th>\n",
       "      <th>avg</th>\n",
       "      <th>neg</th>\n",
       "      <th>pos</th>\n",
       "    </tr>\n",
       "    <tr>\n",
       "      <th>new_time</th>\n",
       "      <th></th>\n",
       "      <th></th>\n",
       "      <th></th>\n",
       "    </tr>\n",
       "  </thead>\n",
       "  <tbody>\n",
       "    <tr>\n",
       "      <th>2021-06-24 23:49:30+03</th>\n",
       "      <td>34754.84670</td>\n",
       "      <td>0.0</td>\n",
       "      <td>0.0</td>\n",
       "    </tr>\n",
       "    <tr>\n",
       "      <th>2021-06-24 23:50:00+03</th>\n",
       "      <td>34699.95840</td>\n",
       "      <td>0.0</td>\n",
       "      <td>6.0</td>\n",
       "    </tr>\n",
       "    <tr>\n",
       "      <th>2021-06-24 23:50:30+03</th>\n",
       "      <td>34721.30500</td>\n",
       "      <td>1.0</td>\n",
       "      <td>6.0</td>\n",
       "    </tr>\n",
       "    <tr>\n",
       "      <th>2021-06-24 23:51:00+03</th>\n",
       "      <td>34735.85000</td>\n",
       "      <td>3.0</td>\n",
       "      <td>2.0</td>\n",
       "    </tr>\n",
       "    <tr>\n",
       "      <th>2021-06-24 23:51:30+03</th>\n",
       "      <td>34715.51830</td>\n",
       "      <td>2.0</td>\n",
       "      <td>4.0</td>\n",
       "    </tr>\n",
       "    <tr>\n",
       "      <th>...</th>\n",
       "      <td>...</td>\n",
       "      <td>...</td>\n",
       "      <td>...</td>\n",
       "    </tr>\n",
       "    <tr>\n",
       "      <th>2021-06-25 21:04:00+03</th>\n",
       "      <td>32626.94145</td>\n",
       "      <td>1.0</td>\n",
       "      <td>3.0</td>\n",
       "    </tr>\n",
       "    <tr>\n",
       "      <th>2021-06-25 21:04:30+03</th>\n",
       "      <td>32548.59915</td>\n",
       "      <td>0.0</td>\n",
       "      <td>1.0</td>\n",
       "    </tr>\n",
       "    <tr>\n",
       "      <th>2021-06-25 21:05:00+03</th>\n",
       "      <td>32575.44910</td>\n",
       "      <td>2.0</td>\n",
       "      <td>1.0</td>\n",
       "    </tr>\n",
       "    <tr>\n",
       "      <th>2021-06-25 21:05:30+03</th>\n",
       "      <td>32544.11250</td>\n",
       "      <td>1.0</td>\n",
       "      <td>4.0</td>\n",
       "    </tr>\n",
       "    <tr>\n",
       "      <th>2021-06-25 21:06:00+03</th>\n",
       "      <td>32676.99370</td>\n",
       "      <td>2.0</td>\n",
       "      <td>7.0</td>\n",
       "    </tr>\n",
       "  </tbody>\n",
       "</table>\n",
       "<p>1961 rows × 3 columns</p>\n",
       "</div>"
      ],
      "text/plain": [
       "                                avg  neg  pos\n",
       "new_time                                     \n",
       "2021-06-24 23:49:30+03  34754.84670  0.0  0.0\n",
       "2021-06-24 23:50:00+03  34699.95840  0.0  6.0\n",
       "2021-06-24 23:50:30+03  34721.30500  1.0  6.0\n",
       "2021-06-24 23:51:00+03  34735.85000  3.0  2.0\n",
       "2021-06-24 23:51:30+03  34715.51830  2.0  4.0\n",
       "...                             ...  ...  ...\n",
       "2021-06-25 21:04:00+03  32626.94145  1.0  3.0\n",
       "2021-06-25 21:04:30+03  32548.59915  0.0  1.0\n",
       "2021-06-25 21:05:00+03  32575.44910  2.0  1.0\n",
       "2021-06-25 21:05:30+03  32544.11250  1.0  4.0\n",
       "2021-06-25 21:06:00+03  32676.99370  2.0  7.0\n",
       "\n",
       "[1961 rows x 3 columns]"
      ]
     },
     "execution_count": 6,
     "metadata": {},
     "output_type": "execute_result"
    }
   ],
   "source": [
    "# setting first name as index column\n",
    "df1.set_index(\"new_time\", inplace = True)\n",
    "df1"
   ]
  },
  {
   "cell_type": "code",
   "execution_count": 8,
   "id": "38cc9f3b-a043-4727-98e2-90c4b1f21133",
   "metadata": {},
   "outputs": [],
   "source": [
    "size = int(len(df1)-100)\n",
    "# Divide into train and test\n",
    "train_arima, test_arima = df1[0:size], df1[size:len(df1)]"
   ]
  },
  {
   "cell_type": "code",
   "execution_count": 9,
   "id": "bb48ccad-e7b8-410f-9a31-7cb360855228",
   "metadata": {},
   "outputs": [
    {
     "name": "stderr",
     "output_type": "stream",
     "text": [
      "D:\\SDA\\python_new\\program\\lib\\site-packages\\statsmodels\\tsa\\arima_model.py:472: FutureWarning: \n",
      "statsmodels.tsa.arima_model.ARMA and statsmodels.tsa.arima_model.ARIMA have\n",
      "been deprecated in favor of statsmodels.tsa.arima.model.ARIMA (note the .\n",
      "between arima and model) and\n",
      "statsmodels.tsa.SARIMAX. These will be removed after the 0.12 release.\n",
      "\n",
      "statsmodels.tsa.arima.model.ARIMA makes use of the statespace framework and\n",
      "is both well tested and maintained.\n",
      "\n",
      "To silence this warning and continue using ARMA and ARIMA until they are\n",
      "removed, use:\n",
      "\n",
      "import warnings\n",
      "warnings.filterwarnings('ignore', 'statsmodels.tsa.arima_model.ARMA',\n",
      "                        FutureWarning)\n",
      "warnings.filterwarnings('ignore', 'statsmodels.tsa.arima_model.ARIMA',\n",
      "                        FutureWarning)\n",
      "\n",
      "  warnings.warn(ARIMA_DEPRECATION_WARN, FutureWarning)\n",
      "D:\\SDA\\python_new\\program\\lib\\site-packages\\statsmodels\\tsa\\base\\tsa_model.py:581: ValueWarning: A date index has been provided, but it has no associated frequency information and so will be ignored when e.g. forecasting.\n",
      "  warnings.warn('A date index has been provided, but it has no'\n"
     ]
    },
    {
     "data": {
      "text/html": [
       "<table class=\"simpletable\">\n",
       "<caption>ARMA Model Results</caption>\n",
       "<tr>\n",
       "  <th>Dep. Variable:</th>        <td>avg</td>       <th>  No. Observations:  </th>   <td>1861</td>   \n",
       "</tr>\n",
       "<tr>\n",
       "  <th>Model:</th>            <td>ARMA(1, 5)</td>    <th>  Log Likelihood     </th> <td>-9214.669</td>\n",
       "</tr>\n",
       "<tr>\n",
       "  <th>Method:</th>             <td>css-mle</td>     <th>  S.D. of innovations</th>  <td>34.154</td>  \n",
       "</tr>\n",
       "<tr>\n",
       "  <th>Date:</th>          <td>Sat, 26 Jun 2021</td> <th>  AIC                </th> <td>18445.339</td>\n",
       "</tr>\n",
       "<tr>\n",
       "  <th>Time:</th>              <td>23:27:40</td>     <th>  BIC                </th> <td>18489.570</td>\n",
       "</tr>\n",
       "<tr>\n",
       "  <th>Sample:</th>                <td>0</td>        <th>  HQIC               </th> <td>18461.639</td>\n",
       "</tr>\n",
       "<tr>\n",
       "  <th></th>                       <td> </td>        <th>                     </th>     <td> </td>    \n",
       "</tr>\n",
       "</table>\n",
       "<table class=\"simpletable\">\n",
       "<tr>\n",
       "      <td></td>         <th>coef</th>     <th>std err</th>      <th>z</th>      <th>P>|z|</th>  <th>[0.025</th>    <th>0.975]</th>  \n",
       "</tr>\n",
       "<tr>\n",
       "  <th>const</th>     <td> 3.425e+04</td> <td>  496.944</td> <td>   68.928</td> <td> 0.000</td> <td> 3.33e+04</td> <td> 3.52e+04</td>\n",
       "</tr>\n",
       "<tr>\n",
       "  <th>ar.L1.avg</th> <td>    0.9988</td> <td>    0.001</td> <td> 1028.566</td> <td> 0.000</td> <td>    0.997</td> <td>    1.001</td>\n",
       "</tr>\n",
       "<tr>\n",
       "  <th>ma.L1.avg</th> <td>   -0.0544</td> <td>    0.023</td> <td>   -2.333</td> <td> 0.020</td> <td>   -0.100</td> <td>   -0.009</td>\n",
       "</tr>\n",
       "<tr>\n",
       "  <th>ma.L2.avg</th> <td>    0.0974</td> <td>    0.023</td> <td>    4.188</td> <td> 0.000</td> <td>    0.052</td> <td>    0.143</td>\n",
       "</tr>\n",
       "<tr>\n",
       "  <th>ma.L3.avg</th> <td>   -0.0610</td> <td>    0.022</td> <td>   -2.771</td> <td> 0.006</td> <td>   -0.104</td> <td>   -0.018</td>\n",
       "</tr>\n",
       "<tr>\n",
       "  <th>ma.L4.avg</th> <td>    0.0708</td> <td>    0.024</td> <td>    3.004</td> <td> 0.003</td> <td>    0.025</td> <td>    0.117</td>\n",
       "</tr>\n",
       "<tr>\n",
       "  <th>ma.L5.avg</th> <td>   -0.0096</td> <td>    0.023</td> <td>   -0.419</td> <td> 0.675</td> <td>   -0.054</td> <td>    0.035</td>\n",
       "</tr>\n",
       "</table>\n",
       "<table class=\"simpletable\">\n",
       "<caption>Roots</caption>\n",
       "<tr>\n",
       "    <td></td>   <th>            Real</th>  <th>         Imaginary</th> <th>         Modulus</th>  <th>        Frequency</th>\n",
       "</tr>\n",
       "<tr>\n",
       "  <th>AR.1</th> <td>           1.0012</td> <td>          +0.0000j</td> <td>           1.0012</td> <td>           0.0000</td>\n",
       "</tr>\n",
       "<tr>\n",
       "  <th>MA.1</th> <td>          -1.0974</td> <td>          -1.4111j</td> <td>           1.7876</td> <td>          -0.3552</td>\n",
       "</tr>\n",
       "<tr>\n",
       "  <th>MA.2</th> <td>          -1.0974</td> <td>          +1.4111j</td> <td>           1.7876</td> <td>           0.3552</td>\n",
       "</tr>\n",
       "<tr>\n",
       "  <th>MA.3</th> <td>           1.4429</td> <td>          -1.6718j</td> <td>           2.2083</td> <td>          -0.1367</td>\n",
       "</tr>\n",
       "<tr>\n",
       "  <th>MA.4</th> <td>           1.4429</td> <td>          +1.6718j</td> <td>           2.2083</td> <td>           0.1367</td>\n",
       "</tr>\n",
       "<tr>\n",
       "  <th>MA.5</th> <td>           6.6893</td> <td>          -0.0000j</td> <td>           6.6893</td> <td>          -0.0000</td>\n",
       "</tr>\n",
       "</table>"
      ],
      "text/plain": [
       "<class 'statsmodels.iolib.summary.Summary'>\n",
       "\"\"\"\n",
       "                              ARMA Model Results                              \n",
       "==============================================================================\n",
       "Dep. Variable:                    avg   No. Observations:                 1861\n",
       "Model:                     ARMA(1, 5)   Log Likelihood               -9214.669\n",
       "Method:                       css-mle   S.D. of innovations             34.154\n",
       "Date:                Sat, 26 Jun 2021   AIC                          18445.339\n",
       "Time:                        23:27:40   BIC                          18489.570\n",
       "Sample:                             0   HQIC                         18461.639\n",
       "                                                                              \n",
       "==============================================================================\n",
       "                 coef    std err          z      P>|z|      [0.025      0.975]\n",
       "------------------------------------------------------------------------------\n",
       "const       3.425e+04    496.944     68.928      0.000    3.33e+04    3.52e+04\n",
       "ar.L1.avg      0.9988      0.001   1028.566      0.000       0.997       1.001\n",
       "ma.L1.avg     -0.0544      0.023     -2.333      0.020      -0.100      -0.009\n",
       "ma.L2.avg      0.0974      0.023      4.188      0.000       0.052       0.143\n",
       "ma.L3.avg     -0.0610      0.022     -2.771      0.006      -0.104      -0.018\n",
       "ma.L4.avg      0.0708      0.024      3.004      0.003       0.025       0.117\n",
       "ma.L5.avg     -0.0096      0.023     -0.419      0.675      -0.054       0.035\n",
       "                                    Roots                                    \n",
       "=============================================================================\n",
       "                  Real          Imaginary           Modulus         Frequency\n",
       "-----------------------------------------------------------------------------\n",
       "AR.1            1.0012           +0.0000j            1.0012            0.0000\n",
       "MA.1           -1.0974           -1.4111j            1.7876           -0.3552\n",
       "MA.2           -1.0974           +1.4111j            1.7876            0.3552\n",
       "MA.3            1.4429           -1.6718j            2.2083           -0.1367\n",
       "MA.4            1.4429           +1.6718j            2.2083            0.1367\n",
       "MA.5            6.6893           -0.0000j            6.6893           -0.0000\n",
       "-----------------------------------------------------------------------------\n",
       "\"\"\""
      ]
     },
     "execution_count": 9,
     "metadata": {},
     "output_type": "execute_result"
    }
   ],
   "source": [
    "m=ARIMA(train_arima['avg'],order=(1,0,5))\n",
    "m=m.fit()\n",
    "m.summary()"
   ]
  },
  {
   "cell_type": "code",
   "execution_count": 10,
   "id": "9aebafc3-7f42-489f-9eb8-37dd5b44c117",
   "metadata": {},
   "outputs": [
    {
     "name": "stderr",
     "output_type": "stream",
     "text": [
      "D:\\SDA\\python_new\\program\\lib\\site-packages\\statsmodels\\tsa\\base\\tsa_model.py:376: ValueWarning: No supported index is available. Prediction results will be given with an integer index beginning at `start`.\n",
      "  warnings.warn('No supported index is available.'\n"
     ]
    },
    {
     "data": {
      "text/plain": [
       "new_time\n",
       "2021-06-25 20:16:30+03    33365.416297\n",
       "2021-06-25 20:17:00+03    33366.697537\n",
       "2021-06-25 20:17:30+03    33367.506205\n",
       "2021-06-25 20:18:00+03    33366.496141\n",
       "2021-06-25 20:18:30+03    33367.901080\n",
       "                              ...     \n",
       "2021-06-25 21:04:00+03    33461.136653\n",
       "2021-06-25 21:04:30+03    33462.104688\n",
       "2021-06-25 21:05:00+03    33463.071539\n",
       "2021-06-25 21:05:30+03    33464.037210\n",
       "2021-06-25 21:06:00+03    33465.001701\n",
       "Length: 100, dtype: float64"
      ]
     },
     "execution_count": 10,
     "metadata": {},
     "output_type": "execute_result"
    }
   ],
   "source": [
    "start=len(train_arima)\n",
    "end=len(train_arima)+len(test_arima)-1\n",
    "pred=m.predict(start=start, end=end,typ='levels')\n",
    "pred.index=df1.index[start:end+1]\n",
    "pred"
   ]
  },
  {
   "cell_type": "code",
   "execution_count": 11,
   "id": "a4e4e3a3-d3b8-4525-8aa1-905dd070dbcd",
   "metadata": {},
   "outputs": [
    {
     "data": {
      "text/plain": [
       "<AxesSubplot:xlabel='new_time'>"
      ]
     },
     "execution_count": 11,
     "metadata": {},
     "output_type": "execute_result"
    },
    {
     "data": {
      "image/png": "[encoded data removed]",
      "text/plain": [
       "<Figure size 864x360 with 1 Axes>"
      ]
     },
     "metadata": {
      "needs_background": "light"
     },
     "output_type": "display_data"
    }
   ],
   "source": [
    "pred.plot(legend=True)\n",
    "test_arima['avg'].plot(figsize=(12,5),legend=True)"
   ]
  },
  {
   "cell_type": "code",
   "execution_count": 12,
   "id": "d6062b4c-da5f-466a-9967-a150bc8d97da",
   "metadata": {},
   "outputs": [
    {
     "name": "stderr",
     "output_type": "stream",
     "text": [
      "D:\\SDA\\python_new\\program\\lib\\site-packages\\statsmodels\\tsa\\arima_model.py:472: FutureWarning: \n",
      "statsmodels.tsa.arima_model.ARMA and statsmodels.tsa.arima_model.ARIMA have\n",
      "been deprecated in favor of statsmodels.tsa.arima.model.ARIMA (note the .\n",
      "between arima and model) and\n",
      "statsmodels.tsa.SARIMAX. These will be removed after the 0.12 release.\n",
      "\n",
      "statsmodels.tsa.arima.model.ARIMA makes use of the statespace framework and\n",
      "is both well tested and maintained.\n",
      "\n",
      "To silence this warning and continue using ARMA and ARIMA until they are\n",
      "removed, use:\n",
      "\n",
      "import warnings\n",
      "warnings.filterwarnings('ignore', 'statsmodels.tsa.arima_model.ARMA',\n",
      "                        FutureWarning)\n",
      "warnings.filterwarnings('ignore', 'statsmodels.tsa.arima_model.ARIMA',\n",
      "                        FutureWarning)\n",
      "\n",
      "  warnings.warn(ARIMA_DEPRECATION_WARN, FutureWarning)\n",
      "D:\\SDA\\python_new\\program\\lib\\site-packages\\statsmodels\\tsa\\base\\tsa_model.py:581: ValueWarning: A date index has been provided, but it has no associated frequency information and so will be ignored when e.g. forecasting.\n",
      "  warnings.warn('A date index has been provided, but it has no'\n"
     ]
    },
    {
     "data": {
      "text/html": [
       "<table class=\"simpletable\">\n",
       "<caption>ARMA Model Results</caption>\n",
       "<tr>\n",
       "  <th>Dep. Variable:</th>        <td>avg</td>       <th>  No. Observations:  </th>   <td>1961</td>   \n",
       "</tr>\n",
       "<tr>\n",
       "  <th>Model:</th>            <td>ARMA(1, 0)</td>    <th>  Log Likelihood     </th> <td>-9761.077</td>\n",
       "</tr>\n",
       "<tr>\n",
       "  <th>Method:</th>             <td>css-mle</td>     <th>  S.D. of innovations</th>  <td>35.057</td>  \n",
       "</tr>\n",
       "<tr>\n",
       "  <th>Date:</th>          <td>Sat, 26 Jun 2021</td> <th>  AIC                </th> <td>19528.155</td>\n",
       "</tr>\n",
       "<tr>\n",
       "  <th>Time:</th>              <td>23:28:11</td>     <th>  BIC                </th> <td>19544.898</td>\n",
       "</tr>\n",
       "<tr>\n",
       "  <th>Sample:</th>                <td>0</td>        <th>  HQIC               </th> <td>19534.309</td>\n",
       "</tr>\n",
       "<tr>\n",
       "  <th></th>                       <td> </td>        <th>                     </th>     <td> </td>    \n",
       "</tr>\n",
       "</table>\n",
       "<table class=\"simpletable\">\n",
       "<tr>\n",
       "      <td></td>         <th>coef</th>     <th>std err</th>      <th>z</th>      <th>P>|z|</th>  <th>[0.025</th>    <th>0.975]</th>  \n",
       "</tr>\n",
       "<tr>\n",
       "  <th>const</th>     <td> 3.398e+04</td> <td>  738.738</td> <td>   46.003</td> <td> 0.000</td> <td> 3.25e+04</td> <td> 3.54e+04</td>\n",
       "</tr>\n",
       "<tr>\n",
       "  <th>ar.L1.avg</th> <td>    0.9993</td> <td>    0.001</td> <td> 1444.808</td> <td> 0.000</td> <td>    0.998</td> <td>    1.001</td>\n",
       "</tr>\n",
       "</table>\n",
       "<table class=\"simpletable\">\n",
       "<caption>Roots</caption>\n",
       "<tr>\n",
       "    <td></td>   <th>            Real</th>  <th>         Imaginary</th> <th>         Modulus</th>  <th>        Frequency</th>\n",
       "</tr>\n",
       "<tr>\n",
       "  <th>AR.1</th> <td>           1.0007</td> <td>          +0.0000j</td> <td>           1.0007</td> <td>           0.0000</td>\n",
       "</tr>\n",
       "</table>"
      ],
      "text/plain": [
       "<class 'statsmodels.iolib.summary.Summary'>\n",
       "\"\"\"\n",
       "                              ARMA Model Results                              \n",
       "==============================================================================\n",
       "Dep. Variable:                    avg   No. Observations:                 1961\n",
       "Model:                     ARMA(1, 0)   Log Likelihood               -9761.077\n",
       "Method:                       css-mle   S.D. of innovations             35.057\n",
       "Date:                Sat, 26 Jun 2021   AIC                          19528.155\n",
       "Time:                        23:28:11   BIC                          19544.898\n",
       "Sample:                             0   HQIC                         19534.309\n",
       "                                                                              \n",
       "==============================================================================\n",
       "                 coef    std err          z      P>|z|      [0.025      0.975]\n",
       "------------------------------------------------------------------------------\n",
       "const       3.398e+04    738.738     46.003      0.000    3.25e+04    3.54e+04\n",
       "ar.L1.avg      0.9993      0.001   1444.808      0.000       0.998       1.001\n",
       "                                    Roots                                    \n",
       "=============================================================================\n",
       "                  Real          Imaginary           Modulus         Frequency\n",
       "-----------------------------------------------------------------------------\n",
       "AR.1            1.0007           +0.0000j            1.0007            0.0000\n",
       "-----------------------------------------------------------------------------\n",
       "\"\"\""
      ]
     },
     "execution_count": 12,
     "metadata": {},
     "output_type": "execute_result"
    }
   ],
   "source": [
    "m2=ARIMA(df1['avg'],order=(1,0,0))\n",
    "m2=m2.fit()\n",
    "m2.summary()"
   ]
  },
  {
   "cell_type": "code",
   "execution_count": 13,
   "id": "8e4e45d9-2c5c-47b8-a217-f9380d551410",
   "metadata": {},
   "outputs": [
    {
     "name": "stderr",
     "output_type": "stream",
     "text": [
      "D:\\SDA\\python_new\\program\\lib\\site-packages\\statsmodels\\tsa\\base\\tsa_model.py:376: ValueWarning: No supported index is available. Prediction results will be given with an integer index beginning at `start`.\n",
      "  warnings.warn('No supported index is available.'\n"
     ]
    },
    {
     "data": {
      "text/plain": [
       "2021-06-25 21:06:00+03:00    32677.897720\n",
       "2021-06-26 21:06:00+03:00    32678.801115\n",
       "2021-06-27 21:06:00+03:00    32679.703885\n",
       "2021-06-28 21:06:00+03:00    32680.606031\n",
       "2021-06-29 21:06:00+03:00    32681.507553\n",
       "2021-06-30 21:06:00+03:00    32682.408452\n",
       "2021-07-01 21:06:00+03:00    32683.308728\n",
       "2021-07-02 21:06:00+03:00    32684.208381\n",
       "2021-07-03 21:06:00+03:00    32685.107412\n",
       "2021-07-04 21:06:00+03:00    32686.005822\n",
       "2021-07-05 21:06:00+03:00    32686.903610\n",
       "2021-07-06 21:06:00+03:00    32687.800778\n",
       "2021-07-07 21:06:00+03:00    32688.697325\n",
       "2021-07-08 21:06:00+03:00    32689.593253\n",
       "2021-07-09 21:06:00+03:00    32690.488561\n",
       "2021-07-10 21:06:00+03:00    32691.383250\n",
       "2021-07-11 21:06:00+03:00    32692.277320\n",
       "2021-07-12 21:06:00+03:00    32693.170772\n",
       "2021-07-13 21:06:00+03:00    32694.063606\n",
       "2021-07-14 21:06:00+03:00    32694.955823\n",
       "2021-07-15 21:06:00+03:00    32695.847423\n",
       "2021-07-16 21:06:00+03:00    32696.738406\n",
       "2021-07-17 21:06:00+03:00    32697.628773\n",
       "2021-07-18 21:06:00+03:00    32698.518525\n",
       "2021-07-19 21:06:00+03:00    32699.407661\n",
       "2021-07-20 21:06:00+03:00    32700.296183\n",
       "2021-07-21 21:06:00+03:00    32701.184090\n",
       "2021-07-22 21:06:00+03:00    32702.071384\n",
       "2021-07-23 21:06:00+03:00    32702.958063\n",
       "2021-07-24 21:06:00+03:00    32703.844130\n",
       "2021-07-25 21:06:00+03:00    32704.729584\n",
       "Freq: D, Name: ARIMA Predictions, dtype: float64"
      ]
     },
     "execution_count": 13,
     "metadata": {},
     "output_type": "execute_result"
    }
   ],
   "source": [
    "index_forcasting=pd.date_range(start='2021-06-25 21:06:00+03',end='2021-07-25 21:06:00+03')\n",
    "pred=m2.predict(start=len(df1),end=len(df1)+30,typ='levels').rename('ARIMA Predictions')\n",
    "pred.index=index_forcasting\n",
    "pred"
   ]
  },
  {
   "cell_type": "code",
   "execution_count": 14,
   "id": "a92a3db8-6ec3-4399-aa54-dbc3a6e24a83",
   "metadata": {},
   "outputs": [
    {
     "data": {
      "text/plain": [
       "<AxesSubplot:>"
      ]
     },
     "execution_count": 14,
     "metadata": {},
     "output_type": "execute_result"
    },
    {
     "data": {
      "image/png": "[encoded data removed]",
      "text/plain": [
       "<Figure size 864x360 with 1 Axes>"
      ]
     },
     "metadata": {
      "needs_background": "light"
     },
     "output_type": "display_data"
    }
   ],
   "source": [
    "pred.plot(figsize=(12,5),legend=True)"
   ]
  },
  {
   "cell_type": "code",
   "execution_count": null,
   "id": "2142f748-97db-44f6-8e2c-f1d1705b5c78",
   "metadata": {},
   "outputs": [],
   "source": []
  }
 ],
 "metadata": {
  "kernelspec": {
   "display_name": "Python 3",
   "language": "python",
   "name": "python3"
  },
  "language_info": {
   "codemirror_mode": {
    "name": "ipython",
    "version": 3
   },
   "file_extension": ".py",
   "mimetype": "text/x-python",
   "name": "python",
   "nbconvert_exporter": "python",
   "pygments_lexer": "ipython3",
   "version": "3.8.2"
  }
 },
 "nbformat": 4,
 "nbformat_minor": 5
}
